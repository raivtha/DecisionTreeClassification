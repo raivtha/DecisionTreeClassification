{
  "nbformat": 4,
  "nbformat_minor": 0,
  "metadata": {
    "colab": {
      "provenance": []
    },
    "kernelspec": {
      "name": "python3",
      "display_name": "Python 3"
    },
    "language_info": {
      "name": "python"
    }
  },
  "cells": [
    {
      "cell_type": "markdown",
      "source": [
        "predict whether a patient is likely to be readmitted to hospital based on the previous details of \n",
        "the patient.\n"
      ],
      "metadata": {
        "id": "I5iCESjPh3Zc"
      }
    },
    {
      "cell_type": "code",
      "execution_count": null,
      "metadata": {
        "id": "3gxLMHHEKaLs"
      },
      "outputs": [],
      "source": [
        "import pandas as pd\n",
        "import numpy as np\n",
        "import matplotlib.pyplot as plt\n",
        "import seaborn as sns"
      ]
    },
    {
      "cell_type": "code",
      "source": [
        "df = pd.read_csv(\"/content/Train-1617360447408-1660719685476.csv\", header=0)\n"
      ],
      "metadata": {
        "id": "4IpWGcA5K7pd"
      },
      "execution_count": null,
      "outputs": []
    },
    {
      "cell_type": "code",
      "source": [
        "df.head(5)"
      ],
      "metadata": {
        "colab": {
          "base_uri": "https://localhost:8080/",
          "height": 386
        },
        "id": "sQYj1fteLIR6",
        "outputId": "61133151-55ad-408e-83e3-4a9e23f448f4"
      },
      "execution_count": null,
      "outputs": [
        {
          "output_type": "execute_result",
          "data": {
            "text/plain": [
              "   index  encounter_id  patient_id             race  gender      age weight  \\\n",
              "0  69375     197029140    51521940         Hispanic    Male  [80-90)      ?   \n",
              "1  57272     163571946    92631357        Caucasian    Male  [60-70)      ?   \n",
              "2  82347     256497366    30023982        Caucasian  Female  [50-60)      ?   \n",
              "3  89608     289891212    93606021  AfricanAmerican  Female  [70-80)      ?   \n",
              "4  24091      81873900    23464296        Caucasian    Male  [70-80)      ?   \n",
              "\n",
              "   time_in_hospital medical_specialty  num_lab_procedures  ...  X19   X20  \\\n",
              "0                 4  Emergency/Trauma                  39  ...   No    No   \n",
              "1                 3  Emergency/Trauma                  34  ...   No    No   \n",
              "2                 6        Nephrology                  50  ...   No  Down   \n",
              "3                 5                 ?                  63  ...   No  Down   \n",
              "4                 9        Psychiatry                  17  ...   No    No   \n",
              "\n",
              "   X21  X22  X23 X24 X25 change diabetesMed  readmitted  \n",
              "0   No   No   No  No  No     No         Yes           1  \n",
              "1   No   No   No  No  No     No          No           0  \n",
              "2   No   No   No  No  No     Ch         Yes           1  \n",
              "3   No   No   No  No  No     Ch         Yes           1  \n",
              "4   No   No   No  No  No     No          No           1  \n",
              "\n",
              "[5 rows x 49 columns]"
            ],
            "text/html": [
              "\n",
              "  <div id=\"df-b039a34c-6d27-40c6-a60e-38737840e3e6\">\n",
              "    <div class=\"colab-df-container\">\n",
              "      <div>\n",
              "<style scoped>\n",
              "    .dataframe tbody tr th:only-of-type {\n",
              "        vertical-align: middle;\n",
              "    }\n",
              "\n",
              "    .dataframe tbody tr th {\n",
              "        vertical-align: top;\n",
              "    }\n",
              "\n",
              "    .dataframe thead th {\n",
              "        text-align: right;\n",
              "    }\n",
              "</style>\n",
              "<table border=\"1\" class=\"dataframe\">\n",
              "  <thead>\n",
              "    <tr style=\"text-align: right;\">\n",
              "      <th></th>\n",
              "      <th>index</th>\n",
              "      <th>encounter_id</th>\n",
              "      <th>patient_id</th>\n",
              "      <th>race</th>\n",
              "      <th>gender</th>\n",
              "      <th>age</th>\n",
              "      <th>weight</th>\n",
              "      <th>time_in_hospital</th>\n",
              "      <th>medical_specialty</th>\n",
              "      <th>num_lab_procedures</th>\n",
              "      <th>...</th>\n",
              "      <th>X19</th>\n",
              "      <th>X20</th>\n",
              "      <th>X21</th>\n",
              "      <th>X22</th>\n",
              "      <th>X23</th>\n",
              "      <th>X24</th>\n",
              "      <th>X25</th>\n",
              "      <th>change</th>\n",
              "      <th>diabetesMed</th>\n",
              "      <th>readmitted</th>\n",
              "    </tr>\n",
              "  </thead>\n",
              "  <tbody>\n",
              "    <tr>\n",
              "      <th>0</th>\n",
              "      <td>69375</td>\n",
              "      <td>197029140</td>\n",
              "      <td>51521940</td>\n",
              "      <td>Hispanic</td>\n",
              "      <td>Male</td>\n",
              "      <td>[80-90)</td>\n",
              "      <td>?</td>\n",
              "      <td>4</td>\n",
              "      <td>Emergency/Trauma</td>\n",
              "      <td>39</td>\n",
              "      <td>...</td>\n",
              "      <td>No</td>\n",
              "      <td>No</td>\n",
              "      <td>No</td>\n",
              "      <td>No</td>\n",
              "      <td>No</td>\n",
              "      <td>No</td>\n",
              "      <td>No</td>\n",
              "      <td>No</td>\n",
              "      <td>Yes</td>\n",
              "      <td>1</td>\n",
              "    </tr>\n",
              "    <tr>\n",
              "      <th>1</th>\n",
              "      <td>57272</td>\n",
              "      <td>163571946</td>\n",
              "      <td>92631357</td>\n",
              "      <td>Caucasian</td>\n",
              "      <td>Male</td>\n",
              "      <td>[60-70)</td>\n",
              "      <td>?</td>\n",
              "      <td>3</td>\n",
              "      <td>Emergency/Trauma</td>\n",
              "      <td>34</td>\n",
              "      <td>...</td>\n",
              "      <td>No</td>\n",
              "      <td>No</td>\n",
              "      <td>No</td>\n",
              "      <td>No</td>\n",
              "      <td>No</td>\n",
              "      <td>No</td>\n",
              "      <td>No</td>\n",
              "      <td>No</td>\n",
              "      <td>No</td>\n",
              "      <td>0</td>\n",
              "    </tr>\n",
              "    <tr>\n",
              "      <th>2</th>\n",
              "      <td>82347</td>\n",
              "      <td>256497366</td>\n",
              "      <td>30023982</td>\n",
              "      <td>Caucasian</td>\n",
              "      <td>Female</td>\n",
              "      <td>[50-60)</td>\n",
              "      <td>?</td>\n",
              "      <td>6</td>\n",
              "      <td>Nephrology</td>\n",
              "      <td>50</td>\n",
              "      <td>...</td>\n",
              "      <td>No</td>\n",
              "      <td>Down</td>\n",
              "      <td>No</td>\n",
              "      <td>No</td>\n",
              "      <td>No</td>\n",
              "      <td>No</td>\n",
              "      <td>No</td>\n",
              "      <td>Ch</td>\n",
              "      <td>Yes</td>\n",
              "      <td>1</td>\n",
              "    </tr>\n",
              "    <tr>\n",
              "      <th>3</th>\n",
              "      <td>89608</td>\n",
              "      <td>289891212</td>\n",
              "      <td>93606021</td>\n",
              "      <td>AfricanAmerican</td>\n",
              "      <td>Female</td>\n",
              "      <td>[70-80)</td>\n",
              "      <td>?</td>\n",
              "      <td>5</td>\n",
              "      <td>?</td>\n",
              "      <td>63</td>\n",
              "      <td>...</td>\n",
              "      <td>No</td>\n",
              "      <td>Down</td>\n",
              "      <td>No</td>\n",
              "      <td>No</td>\n",
              "      <td>No</td>\n",
              "      <td>No</td>\n",
              "      <td>No</td>\n",
              "      <td>Ch</td>\n",
              "      <td>Yes</td>\n",
              "      <td>1</td>\n",
              "    </tr>\n",
              "    <tr>\n",
              "      <th>4</th>\n",
              "      <td>24091</td>\n",
              "      <td>81873900</td>\n",
              "      <td>23464296</td>\n",
              "      <td>Caucasian</td>\n",
              "      <td>Male</td>\n",
              "      <td>[70-80)</td>\n",
              "      <td>?</td>\n",
              "      <td>9</td>\n",
              "      <td>Psychiatry</td>\n",
              "      <td>17</td>\n",
              "      <td>...</td>\n",
              "      <td>No</td>\n",
              "      <td>No</td>\n",
              "      <td>No</td>\n",
              "      <td>No</td>\n",
              "      <td>No</td>\n",
              "      <td>No</td>\n",
              "      <td>No</td>\n",
              "      <td>No</td>\n",
              "      <td>No</td>\n",
              "      <td>1</td>\n",
              "    </tr>\n",
              "  </tbody>\n",
              "</table>\n",
              "<p>5 rows × 49 columns</p>\n",
              "</div>\n",
              "      <button class=\"colab-df-convert\" onclick=\"convertToInteractive('df-b039a34c-6d27-40c6-a60e-38737840e3e6')\"\n",
              "              title=\"Convert this dataframe to an interactive table.\"\n",
              "              style=\"display:none;\">\n",
              "        \n",
              "  <svg xmlns=\"http://www.w3.org/2000/svg\" height=\"24px\"viewBox=\"0 0 24 24\"\n",
              "       width=\"24px\">\n",
              "    <path d=\"M0 0h24v24H0V0z\" fill=\"none\"/>\n",
              "    <path d=\"M18.56 5.44l.94 2.06.94-2.06 2.06-.94-2.06-.94-.94-2.06-.94 2.06-2.06.94zm-11 1L8.5 8.5l.94-2.06 2.06-.94-2.06-.94L8.5 2.5l-.94 2.06-2.06.94zm10 10l.94 2.06.94-2.06 2.06-.94-2.06-.94-.94-2.06-.94 2.06-2.06.94z\"/><path d=\"M17.41 7.96l-1.37-1.37c-.4-.4-.92-.59-1.43-.59-.52 0-1.04.2-1.43.59L10.3 9.45l-7.72 7.72c-.78.78-.78 2.05 0 2.83L4 21.41c.39.39.9.59 1.41.59.51 0 1.02-.2 1.41-.59l7.78-7.78 2.81-2.81c.8-.78.8-2.07 0-2.86zM5.41 20L4 18.59l7.72-7.72 1.47 1.35L5.41 20z\"/>\n",
              "  </svg>\n",
              "      </button>\n",
              "      \n",
              "  <style>\n",
              "    .colab-df-container {\n",
              "      display:flex;\n",
              "      flex-wrap:wrap;\n",
              "      gap: 12px;\n",
              "    }\n",
              "\n",
              "    .colab-df-convert {\n",
              "      background-color: #E8F0FE;\n",
              "      border: none;\n",
              "      border-radius: 50%;\n",
              "      cursor: pointer;\n",
              "      display: none;\n",
              "      fill: #1967D2;\n",
              "      height: 32px;\n",
              "      padding: 0 0 0 0;\n",
              "      width: 32px;\n",
              "    }\n",
              "\n",
              "    .colab-df-convert:hover {\n",
              "      background-color: #E2EBFA;\n",
              "      box-shadow: 0px 1px 2px rgba(60, 64, 67, 0.3), 0px 1px 3px 1px rgba(60, 64, 67, 0.15);\n",
              "      fill: #174EA6;\n",
              "    }\n",
              "\n",
              "    [theme=dark] .colab-df-convert {\n",
              "      background-color: #3B4455;\n",
              "      fill: #D2E3FC;\n",
              "    }\n",
              "\n",
              "    [theme=dark] .colab-df-convert:hover {\n",
              "      background-color: #434B5C;\n",
              "      box-shadow: 0px 1px 3px 1px rgba(0, 0, 0, 0.15);\n",
              "      filter: drop-shadow(0px 1px 2px rgba(0, 0, 0, 0.3));\n",
              "      fill: #FFFFFF;\n",
              "    }\n",
              "  </style>\n",
              "\n",
              "      <script>\n",
              "        const buttonEl =\n",
              "          document.querySelector('#df-b039a34c-6d27-40c6-a60e-38737840e3e6 button.colab-df-convert');\n",
              "        buttonEl.style.display =\n",
              "          google.colab.kernel.accessAllowed ? 'block' : 'none';\n",
              "\n",
              "        async function convertToInteractive(key) {\n",
              "          const element = document.querySelector('#df-b039a34c-6d27-40c6-a60e-38737840e3e6');\n",
              "          const dataTable =\n",
              "            await google.colab.kernel.invokeFunction('convertToInteractive',\n",
              "                                                     [key], {});\n",
              "          if (!dataTable) return;\n",
              "\n",
              "          const docLinkHtml = 'Like what you see? Visit the ' +\n",
              "            '<a target=\"_blank\" href=https://colab.research.google.com/notebooks/data_table.ipynb>data table notebook</a>'\n",
              "            + ' to learn more about interactive tables.';\n",
              "          element.innerHTML = '';\n",
              "          dataTable['output_type'] = 'display_data';\n",
              "          await google.colab.output.renderOutput(dataTable, element);\n",
              "          const docLink = document.createElement('div');\n",
              "          docLink.innerHTML = docLinkHtml;\n",
              "          element.appendChild(docLink);\n",
              "        }\n",
              "      </script>\n",
              "    </div>\n",
              "  </div>\n",
              "  "
            ]
          },
          "metadata": {},
          "execution_count": 3
        }
      ]
    },
    {
      "cell_type": "code",
      "source": [
        "df.tail(5)"
      ],
      "metadata": {
        "colab": {
          "base_uri": "https://localhost:8080/",
          "height": 386
        },
        "id": "aAl6FTSFLQ_p",
        "outputId": "604ef31e-ce98-47a0-8f72-aafa56bffb57"
      },
      "execution_count": null,
      "outputs": [
        {
          "output_type": "execute_result",
          "data": {
            "text/plain": [
              "       index  encounter_id  patient_id       race  gender      age weight  \\\n",
              "66582  39934     124202466    23450508  Caucasian  Female  [70-80)      ?   \n",
              "66583  47366     145667070    29324601  Caucasian    Male  [80-90)      ?   \n",
              "66584  76555     231061116     2179062  Caucasian  Female  [60-70)      ?   \n",
              "66585  25392      84911682    20531754          ?  Female  [80-90)      ?   \n",
              "66586  51312     153167502    81985473  Caucasian  Female  [80-90)      ?   \n",
              "\n",
              "       time_in_hospital medical_specialty  num_lab_procedures  ...  X19  \\\n",
              "66582                11  InternalMedicine                  40  ...   No   \n",
              "66583                 4                 ?                  39  ...   No   \n",
              "66584                 2                 ?                  24  ...   No   \n",
              "66585                 4  InternalMedicine                  39  ...   No   \n",
              "66586                 2                 ?                  38  ...   No   \n",
              "\n",
              "          X20  X21  X22  X23 X24 X25 change diabetesMed  readmitted  \n",
              "66582  Steady   No   No   No  No  No     No         Yes           0  \n",
              "66583      No   No   No   No  No  No     No          No           1  \n",
              "66584      No   No   No   No  No  No     No         Yes           1  \n",
              "66585      No   No   No   No  No  No     No          No           0  \n",
              "66586  Steady   No   No   No  No  No     Ch         Yes           1  \n",
              "\n",
              "[5 rows x 49 columns]"
            ],
            "text/html": [
              "\n",
              "  <div id=\"df-2989cc6c-b5b5-48e5-a85b-c1c7230ca5e5\">\n",
              "    <div class=\"colab-df-container\">\n",
              "      <div>\n",
              "<style scoped>\n",
              "    .dataframe tbody tr th:only-of-type {\n",
              "        vertical-align: middle;\n",
              "    }\n",
              "\n",
              "    .dataframe tbody tr th {\n",
              "        vertical-align: top;\n",
              "    }\n",
              "\n",
              "    .dataframe thead th {\n",
              "        text-align: right;\n",
              "    }\n",
              "</style>\n",
              "<table border=\"1\" class=\"dataframe\">\n",
              "  <thead>\n",
              "    <tr style=\"text-align: right;\">\n",
              "      <th></th>\n",
              "      <th>index</th>\n",
              "      <th>encounter_id</th>\n",
              "      <th>patient_id</th>\n",
              "      <th>race</th>\n",
              "      <th>gender</th>\n",
              "      <th>age</th>\n",
              "      <th>weight</th>\n",
              "      <th>time_in_hospital</th>\n",
              "      <th>medical_specialty</th>\n",
              "      <th>num_lab_procedures</th>\n",
              "      <th>...</th>\n",
              "      <th>X19</th>\n",
              "      <th>X20</th>\n",
              "      <th>X21</th>\n",
              "      <th>X22</th>\n",
              "      <th>X23</th>\n",
              "      <th>X24</th>\n",
              "      <th>X25</th>\n",
              "      <th>change</th>\n",
              "      <th>diabetesMed</th>\n",
              "      <th>readmitted</th>\n",
              "    </tr>\n",
              "  </thead>\n",
              "  <tbody>\n",
              "    <tr>\n",
              "      <th>66582</th>\n",
              "      <td>39934</td>\n",
              "      <td>124202466</td>\n",
              "      <td>23450508</td>\n",
              "      <td>Caucasian</td>\n",
              "      <td>Female</td>\n",
              "      <td>[70-80)</td>\n",
              "      <td>?</td>\n",
              "      <td>11</td>\n",
              "      <td>InternalMedicine</td>\n",
              "      <td>40</td>\n",
              "      <td>...</td>\n",
              "      <td>No</td>\n",
              "      <td>Steady</td>\n",
              "      <td>No</td>\n",
              "      <td>No</td>\n",
              "      <td>No</td>\n",
              "      <td>No</td>\n",
              "      <td>No</td>\n",
              "      <td>No</td>\n",
              "      <td>Yes</td>\n",
              "      <td>0</td>\n",
              "    </tr>\n",
              "    <tr>\n",
              "      <th>66583</th>\n",
              "      <td>47366</td>\n",
              "      <td>145667070</td>\n",
              "      <td>29324601</td>\n",
              "      <td>Caucasian</td>\n",
              "      <td>Male</td>\n",
              "      <td>[80-90)</td>\n",
              "      <td>?</td>\n",
              "      <td>4</td>\n",
              "      <td>?</td>\n",
              "      <td>39</td>\n",
              "      <td>...</td>\n",
              "      <td>No</td>\n",
              "      <td>No</td>\n",
              "      <td>No</td>\n",
              "      <td>No</td>\n",
              "      <td>No</td>\n",
              "      <td>No</td>\n",
              "      <td>No</td>\n",
              "      <td>No</td>\n",
              "      <td>No</td>\n",
              "      <td>1</td>\n",
              "    </tr>\n",
              "    <tr>\n",
              "      <th>66584</th>\n",
              "      <td>76555</td>\n",
              "      <td>231061116</td>\n",
              "      <td>2179062</td>\n",
              "      <td>Caucasian</td>\n",
              "      <td>Female</td>\n",
              "      <td>[60-70)</td>\n",
              "      <td>?</td>\n",
              "      <td>2</td>\n",
              "      <td>?</td>\n",
              "      <td>24</td>\n",
              "      <td>...</td>\n",
              "      <td>No</td>\n",
              "      <td>No</td>\n",
              "      <td>No</td>\n",
              "      <td>No</td>\n",
              "      <td>No</td>\n",
              "      <td>No</td>\n",
              "      <td>No</td>\n",
              "      <td>No</td>\n",
              "      <td>Yes</td>\n",
              "      <td>1</td>\n",
              "    </tr>\n",
              "    <tr>\n",
              "      <th>66585</th>\n",
              "      <td>25392</td>\n",
              "      <td>84911682</td>\n",
              "      <td>20531754</td>\n",
              "      <td>?</td>\n",
              "      <td>Female</td>\n",
              "      <td>[80-90)</td>\n",
              "      <td>?</td>\n",
              "      <td>4</td>\n",
              "      <td>InternalMedicine</td>\n",
              "      <td>39</td>\n",
              "      <td>...</td>\n",
              "      <td>No</td>\n",
              "      <td>No</td>\n",
              "      <td>No</td>\n",
              "      <td>No</td>\n",
              "      <td>No</td>\n",
              "      <td>No</td>\n",
              "      <td>No</td>\n",
              "      <td>No</td>\n",
              "      <td>No</td>\n",
              "      <td>0</td>\n",
              "    </tr>\n",
              "    <tr>\n",
              "      <th>66586</th>\n",
              "      <td>51312</td>\n",
              "      <td>153167502</td>\n",
              "      <td>81985473</td>\n",
              "      <td>Caucasian</td>\n",
              "      <td>Female</td>\n",
              "      <td>[80-90)</td>\n",
              "      <td>?</td>\n",
              "      <td>2</td>\n",
              "      <td>?</td>\n",
              "      <td>38</td>\n",
              "      <td>...</td>\n",
              "      <td>No</td>\n",
              "      <td>Steady</td>\n",
              "      <td>No</td>\n",
              "      <td>No</td>\n",
              "      <td>No</td>\n",
              "      <td>No</td>\n",
              "      <td>No</td>\n",
              "      <td>Ch</td>\n",
              "      <td>Yes</td>\n",
              "      <td>1</td>\n",
              "    </tr>\n",
              "  </tbody>\n",
              "</table>\n",
              "<p>5 rows × 49 columns</p>\n",
              "</div>\n",
              "      <button class=\"colab-df-convert\" onclick=\"convertToInteractive('df-2989cc6c-b5b5-48e5-a85b-c1c7230ca5e5')\"\n",
              "              title=\"Convert this dataframe to an interactive table.\"\n",
              "              style=\"display:none;\">\n",
              "        \n",
              "  <svg xmlns=\"http://www.w3.org/2000/svg\" height=\"24px\"viewBox=\"0 0 24 24\"\n",
              "       width=\"24px\">\n",
              "    <path d=\"M0 0h24v24H0V0z\" fill=\"none\"/>\n",
              "    <path d=\"M18.56 5.44l.94 2.06.94-2.06 2.06-.94-2.06-.94-.94-2.06-.94 2.06-2.06.94zm-11 1L8.5 8.5l.94-2.06 2.06-.94-2.06-.94L8.5 2.5l-.94 2.06-2.06.94zm10 10l.94 2.06.94-2.06 2.06-.94-2.06-.94-.94-2.06-.94 2.06-2.06.94z\"/><path d=\"M17.41 7.96l-1.37-1.37c-.4-.4-.92-.59-1.43-.59-.52 0-1.04.2-1.43.59L10.3 9.45l-7.72 7.72c-.78.78-.78 2.05 0 2.83L4 21.41c.39.39.9.59 1.41.59.51 0 1.02-.2 1.41-.59l7.78-7.78 2.81-2.81c.8-.78.8-2.07 0-2.86zM5.41 20L4 18.59l7.72-7.72 1.47 1.35L5.41 20z\"/>\n",
              "  </svg>\n",
              "      </button>\n",
              "      \n",
              "  <style>\n",
              "    .colab-df-container {\n",
              "      display:flex;\n",
              "      flex-wrap:wrap;\n",
              "      gap: 12px;\n",
              "    }\n",
              "\n",
              "    .colab-df-convert {\n",
              "      background-color: #E8F0FE;\n",
              "      border: none;\n",
              "      border-radius: 50%;\n",
              "      cursor: pointer;\n",
              "      display: none;\n",
              "      fill: #1967D2;\n",
              "      height: 32px;\n",
              "      padding: 0 0 0 0;\n",
              "      width: 32px;\n",
              "    }\n",
              "\n",
              "    .colab-df-convert:hover {\n",
              "      background-color: #E2EBFA;\n",
              "      box-shadow: 0px 1px 2px rgba(60, 64, 67, 0.3), 0px 1px 3px 1px rgba(60, 64, 67, 0.15);\n",
              "      fill: #174EA6;\n",
              "    }\n",
              "\n",
              "    [theme=dark] .colab-df-convert {\n",
              "      background-color: #3B4455;\n",
              "      fill: #D2E3FC;\n",
              "    }\n",
              "\n",
              "    [theme=dark] .colab-df-convert:hover {\n",
              "      background-color: #434B5C;\n",
              "      box-shadow: 0px 1px 3px 1px rgba(0, 0, 0, 0.15);\n",
              "      filter: drop-shadow(0px 1px 2px rgba(0, 0, 0, 0.3));\n",
              "      fill: #FFFFFF;\n",
              "    }\n",
              "  </style>\n",
              "\n",
              "      <script>\n",
              "        const buttonEl =\n",
              "          document.querySelector('#df-2989cc6c-b5b5-48e5-a85b-c1c7230ca5e5 button.colab-df-convert');\n",
              "        buttonEl.style.display =\n",
              "          google.colab.kernel.accessAllowed ? 'block' : 'none';\n",
              "\n",
              "        async function convertToInteractive(key) {\n",
              "          const element = document.querySelector('#df-2989cc6c-b5b5-48e5-a85b-c1c7230ca5e5');\n",
              "          const dataTable =\n",
              "            await google.colab.kernel.invokeFunction('convertToInteractive',\n",
              "                                                     [key], {});\n",
              "          if (!dataTable) return;\n",
              "\n",
              "          const docLinkHtml = 'Like what you see? Visit the ' +\n",
              "            '<a target=\"_blank\" href=https://colab.research.google.com/notebooks/data_table.ipynb>data table notebook</a>'\n",
              "            + ' to learn more about interactive tables.';\n",
              "          element.innerHTML = '';\n",
              "          dataTable['output_type'] = 'display_data';\n",
              "          await google.colab.output.renderOutput(dataTable, element);\n",
              "          const docLink = document.createElement('div');\n",
              "          docLink.innerHTML = docLinkHtml;\n",
              "          element.appendChild(docLink);\n",
              "        }\n",
              "      </script>\n",
              "    </div>\n",
              "  </div>\n",
              "  "
            ]
          },
          "metadata": {},
          "execution_count": 4
        }
      ]
    },
    {
      "cell_type": "code",
      "source": [
        "df.sample(5)"
      ],
      "metadata": {
        "colab": {
          "base_uri": "https://localhost:8080/",
          "height": 386
        },
        "id": "xGnIeXBILkYD",
        "outputId": "882249f9-8100-4fd6-e60f-554070f8d215"
      },
      "execution_count": null,
      "outputs": [
        {
          "output_type": "execute_result",
          "data": {
            "text/plain": [
              "       index  encounter_id  patient_id       race  gender      age weight  \\\n",
              "62813  26188      86528382    94080366  Caucasian    Male  [60-70)      ?   \n",
              "47345  48061     147109944    91629504  Caucasian  Female  [50-60)      ?   \n",
              "7945   35840     110674662    19171287  Caucasian  Female  [70-80)      ?   \n",
              "64512   7332      34873296    86698953  Caucasian  Female  [80-90)      ?   \n",
              "24307  63908     177877236    85363308  Caucasian  Female  [60-70)      ?   \n",
              "\n",
              "       time_in_hospital        medical_specialty  num_lab_procedures  ...  \\\n",
              "62813                11         InternalMedicine                  66  ...   \n",
              "47345                 3                        ?                  81  ...   \n",
              "7945                  3  ObstetricsandGynecology                  28  ...   \n",
              "64512                10                        ?                  49  ...   \n",
              "24307                 3                        ?                   3  ...   \n",
              "\n",
              "       X19     X20  X21  X22  X23 X24 X25 change diabetesMed  readmitted  \n",
              "62813   No      Up   No   No   No  No  No     Ch         Yes           1  \n",
              "47345   No  Steady   No   No   No  No  No     Ch         Yes           0  \n",
              "7945    No  Steady   No   No   No  No  No     Ch         Yes           0  \n",
              "64512   No      No   No   No   No  No  No     No         Yes           0  \n",
              "24307   No      No   No   No   No  No  No     Ch         Yes           1  \n",
              "\n",
              "[5 rows x 49 columns]"
            ],
            "text/html": [
              "\n",
              "  <div id=\"df-93b8a43f-0ebb-444b-aaad-50047557b7c7\">\n",
              "    <div class=\"colab-df-container\">\n",
              "      <div>\n",
              "<style scoped>\n",
              "    .dataframe tbody tr th:only-of-type {\n",
              "        vertical-align: middle;\n",
              "    }\n",
              "\n",
              "    .dataframe tbody tr th {\n",
              "        vertical-align: top;\n",
              "    }\n",
              "\n",
              "    .dataframe thead th {\n",
              "        text-align: right;\n",
              "    }\n",
              "</style>\n",
              "<table border=\"1\" class=\"dataframe\">\n",
              "  <thead>\n",
              "    <tr style=\"text-align: right;\">\n",
              "      <th></th>\n",
              "      <th>index</th>\n",
              "      <th>encounter_id</th>\n",
              "      <th>patient_id</th>\n",
              "      <th>race</th>\n",
              "      <th>gender</th>\n",
              "      <th>age</th>\n",
              "      <th>weight</th>\n",
              "      <th>time_in_hospital</th>\n",
              "      <th>medical_specialty</th>\n",
              "      <th>num_lab_procedures</th>\n",
              "      <th>...</th>\n",
              "      <th>X19</th>\n",
              "      <th>X20</th>\n",
              "      <th>X21</th>\n",
              "      <th>X22</th>\n",
              "      <th>X23</th>\n",
              "      <th>X24</th>\n",
              "      <th>X25</th>\n",
              "      <th>change</th>\n",
              "      <th>diabetesMed</th>\n",
              "      <th>readmitted</th>\n",
              "    </tr>\n",
              "  </thead>\n",
              "  <tbody>\n",
              "    <tr>\n",
              "      <th>62813</th>\n",
              "      <td>26188</td>\n",
              "      <td>86528382</td>\n",
              "      <td>94080366</td>\n",
              "      <td>Caucasian</td>\n",
              "      <td>Male</td>\n",
              "      <td>[60-70)</td>\n",
              "      <td>?</td>\n",
              "      <td>11</td>\n",
              "      <td>InternalMedicine</td>\n",
              "      <td>66</td>\n",
              "      <td>...</td>\n",
              "      <td>No</td>\n",
              "      <td>Up</td>\n",
              "      <td>No</td>\n",
              "      <td>No</td>\n",
              "      <td>No</td>\n",
              "      <td>No</td>\n",
              "      <td>No</td>\n",
              "      <td>Ch</td>\n",
              "      <td>Yes</td>\n",
              "      <td>1</td>\n",
              "    </tr>\n",
              "    <tr>\n",
              "      <th>47345</th>\n",
              "      <td>48061</td>\n",
              "      <td>147109944</td>\n",
              "      <td>91629504</td>\n",
              "      <td>Caucasian</td>\n",
              "      <td>Female</td>\n",
              "      <td>[50-60)</td>\n",
              "      <td>?</td>\n",
              "      <td>3</td>\n",
              "      <td>?</td>\n",
              "      <td>81</td>\n",
              "      <td>...</td>\n",
              "      <td>No</td>\n",
              "      <td>Steady</td>\n",
              "      <td>No</td>\n",
              "      <td>No</td>\n",
              "      <td>No</td>\n",
              "      <td>No</td>\n",
              "      <td>No</td>\n",
              "      <td>Ch</td>\n",
              "      <td>Yes</td>\n",
              "      <td>0</td>\n",
              "    </tr>\n",
              "    <tr>\n",
              "      <th>7945</th>\n",
              "      <td>35840</td>\n",
              "      <td>110674662</td>\n",
              "      <td>19171287</td>\n",
              "      <td>Caucasian</td>\n",
              "      <td>Female</td>\n",
              "      <td>[70-80)</td>\n",
              "      <td>?</td>\n",
              "      <td>3</td>\n",
              "      <td>ObstetricsandGynecology</td>\n",
              "      <td>28</td>\n",
              "      <td>...</td>\n",
              "      <td>No</td>\n",
              "      <td>Steady</td>\n",
              "      <td>No</td>\n",
              "      <td>No</td>\n",
              "      <td>No</td>\n",
              "      <td>No</td>\n",
              "      <td>No</td>\n",
              "      <td>Ch</td>\n",
              "      <td>Yes</td>\n",
              "      <td>0</td>\n",
              "    </tr>\n",
              "    <tr>\n",
              "      <th>64512</th>\n",
              "      <td>7332</td>\n",
              "      <td>34873296</td>\n",
              "      <td>86698953</td>\n",
              "      <td>Caucasian</td>\n",
              "      <td>Female</td>\n",
              "      <td>[80-90)</td>\n",
              "      <td>?</td>\n",
              "      <td>10</td>\n",
              "      <td>?</td>\n",
              "      <td>49</td>\n",
              "      <td>...</td>\n",
              "      <td>No</td>\n",
              "      <td>No</td>\n",
              "      <td>No</td>\n",
              "      <td>No</td>\n",
              "      <td>No</td>\n",
              "      <td>No</td>\n",
              "      <td>No</td>\n",
              "      <td>No</td>\n",
              "      <td>Yes</td>\n",
              "      <td>0</td>\n",
              "    </tr>\n",
              "    <tr>\n",
              "      <th>24307</th>\n",
              "      <td>63908</td>\n",
              "      <td>177877236</td>\n",
              "      <td>85363308</td>\n",
              "      <td>Caucasian</td>\n",
              "      <td>Female</td>\n",
              "      <td>[60-70)</td>\n",
              "      <td>?</td>\n",
              "      <td>3</td>\n",
              "      <td>?</td>\n",
              "      <td>3</td>\n",
              "      <td>...</td>\n",
              "      <td>No</td>\n",
              "      <td>No</td>\n",
              "      <td>No</td>\n",
              "      <td>No</td>\n",
              "      <td>No</td>\n",
              "      <td>No</td>\n",
              "      <td>No</td>\n",
              "      <td>Ch</td>\n",
              "      <td>Yes</td>\n",
              "      <td>1</td>\n",
              "    </tr>\n",
              "  </tbody>\n",
              "</table>\n",
              "<p>5 rows × 49 columns</p>\n",
              "</div>\n",
              "      <button class=\"colab-df-convert\" onclick=\"convertToInteractive('df-93b8a43f-0ebb-444b-aaad-50047557b7c7')\"\n",
              "              title=\"Convert this dataframe to an interactive table.\"\n",
              "              style=\"display:none;\">\n",
              "        \n",
              "  <svg xmlns=\"http://www.w3.org/2000/svg\" height=\"24px\"viewBox=\"0 0 24 24\"\n",
              "       width=\"24px\">\n",
              "    <path d=\"M0 0h24v24H0V0z\" fill=\"none\"/>\n",
              "    <path d=\"M18.56 5.44l.94 2.06.94-2.06 2.06-.94-2.06-.94-.94-2.06-.94 2.06-2.06.94zm-11 1L8.5 8.5l.94-2.06 2.06-.94-2.06-.94L8.5 2.5l-.94 2.06-2.06.94zm10 10l.94 2.06.94-2.06 2.06-.94-2.06-.94-.94-2.06-.94 2.06-2.06.94z\"/><path d=\"M17.41 7.96l-1.37-1.37c-.4-.4-.92-.59-1.43-.59-.52 0-1.04.2-1.43.59L10.3 9.45l-7.72 7.72c-.78.78-.78 2.05 0 2.83L4 21.41c.39.39.9.59 1.41.59.51 0 1.02-.2 1.41-.59l7.78-7.78 2.81-2.81c.8-.78.8-2.07 0-2.86zM5.41 20L4 18.59l7.72-7.72 1.47 1.35L5.41 20z\"/>\n",
              "  </svg>\n",
              "      </button>\n",
              "      \n",
              "  <style>\n",
              "    .colab-df-container {\n",
              "      display:flex;\n",
              "      flex-wrap:wrap;\n",
              "      gap: 12px;\n",
              "    }\n",
              "\n",
              "    .colab-df-convert {\n",
              "      background-color: #E8F0FE;\n",
              "      border: none;\n",
              "      border-radius: 50%;\n",
              "      cursor: pointer;\n",
              "      display: none;\n",
              "      fill: #1967D2;\n",
              "      height: 32px;\n",
              "      padding: 0 0 0 0;\n",
              "      width: 32px;\n",
              "    }\n",
              "\n",
              "    .colab-df-convert:hover {\n",
              "      background-color: #E2EBFA;\n",
              "      box-shadow: 0px 1px 2px rgba(60, 64, 67, 0.3), 0px 1px 3px 1px rgba(60, 64, 67, 0.15);\n",
              "      fill: #174EA6;\n",
              "    }\n",
              "\n",
              "    [theme=dark] .colab-df-convert {\n",
              "      background-color: #3B4455;\n",
              "      fill: #D2E3FC;\n",
              "    }\n",
              "\n",
              "    [theme=dark] .colab-df-convert:hover {\n",
              "      background-color: #434B5C;\n",
              "      box-shadow: 0px 1px 3px 1px rgba(0, 0, 0, 0.15);\n",
              "      filter: drop-shadow(0px 1px 2px rgba(0, 0, 0, 0.3));\n",
              "      fill: #FFFFFF;\n",
              "    }\n",
              "  </style>\n",
              "\n",
              "      <script>\n",
              "        const buttonEl =\n",
              "          document.querySelector('#df-93b8a43f-0ebb-444b-aaad-50047557b7c7 button.colab-df-convert');\n",
              "        buttonEl.style.display =\n",
              "          google.colab.kernel.accessAllowed ? 'block' : 'none';\n",
              "\n",
              "        async function convertToInteractive(key) {\n",
              "          const element = document.querySelector('#df-93b8a43f-0ebb-444b-aaad-50047557b7c7');\n",
              "          const dataTable =\n",
              "            await google.colab.kernel.invokeFunction('convertToInteractive',\n",
              "                                                     [key], {});\n",
              "          if (!dataTable) return;\n",
              "\n",
              "          const docLinkHtml = 'Like what you see? Visit the ' +\n",
              "            '<a target=\"_blank\" href=https://colab.research.google.com/notebooks/data_table.ipynb>data table notebook</a>'\n",
              "            + ' to learn more about interactive tables.';\n",
              "          element.innerHTML = '';\n",
              "          dataTable['output_type'] = 'display_data';\n",
              "          await google.colab.output.renderOutput(dataTable, element);\n",
              "          const docLink = document.createElement('div');\n",
              "          docLink.innerHTML = docLinkHtml;\n",
              "          element.appendChild(docLink);\n",
              "        }\n",
              "      </script>\n",
              "    </div>\n",
              "  </div>\n",
              "  "
            ]
          },
          "metadata": {},
          "execution_count": 5
        }
      ]
    },
    {
      "cell_type": "code",
      "source": [
        "df.describe()"
      ],
      "metadata": {
        "colab": {
          "base_uri": "https://localhost:8080/",
          "height": 364
        },
        "id": "_Xp6VBWiLsIH",
        "outputId": "e3affb8d-0e22-4696-c4e1-b758dbf9a1f7"
      },
      "execution_count": null,
      "outputs": [
        {
          "output_type": "execute_result",
          "data": {
            "text/plain": [
              "               index  encounter_id    patient_id  time_in_hospital  \\\n",
              "count   66587.000000  6.658700e+04  6.658700e+04      66587.000000   \n",
              "mean    50903.474282  1.653153e+08  5.422970e+07          4.397510   \n",
              "std     29480.255515  1.030035e+08  3.878819e+07          2.980995   \n",
              "min         0.000000  1.573800e+04  1.350000e+02          1.000000   \n",
              "25%     25166.500000  8.440328e+07  2.338646e+07          2.000000   \n",
              "50%     51129.000000  1.528504e+08  4.526103e+07          4.000000   \n",
              "75%     76380.000000  2.305049e+08  8.727185e+07          6.000000   \n",
              "max    101765.000000  4.438672e+08  1.893494e+08         14.000000   \n",
              "\n",
              "       num_lab_procedures  num_procedures  num_medications  number_outpatient  \\\n",
              "count        66587.000000    66587.000000     66587.000000       66587.000000   \n",
              "mean            43.115533        1.331521        16.028744           0.365672   \n",
              "std             19.630417        1.705746         8.125304           1.221861   \n",
              "min              1.000000        0.000000         1.000000           0.000000   \n",
              "25%             31.000000        0.000000        10.000000           0.000000   \n",
              "50%             44.000000        1.000000        15.000000           0.000000   \n",
              "75%             57.000000        2.000000        20.000000           0.000000   \n",
              "max            129.000000        6.000000        81.000000          39.000000   \n",
              "\n",
              "       number_emergency  number_inpatient        diag_5  number_diagnoses  \\\n",
              "count      66587.000000      66587.000000  66587.000000      66587.000000   \n",
              "mean           0.200460          0.637602     49.703387          7.424948   \n",
              "std            0.905503          1.255487     28.864879          1.933061   \n",
              "min            0.000000          0.000000      0.000283          1.000000   \n",
              "25%            0.000000          0.000000     24.622056          6.000000   \n",
              "50%            0.000000          0.000000     49.508499          8.000000   \n",
              "75%            0.000000          1.000000     74.637294          9.000000   \n",
              "max           63.000000         19.000000     99.995810         16.000000   \n",
              "\n",
              "         readmitted  \n",
              "count  66587.000000  \n",
              "mean       0.462012  \n",
              "std        0.498559  \n",
              "min        0.000000  \n",
              "25%        0.000000  \n",
              "50%        0.000000  \n",
              "75%        1.000000  \n",
              "max        1.000000  "
            ],
            "text/html": [
              "\n",
              "  <div id=\"df-e4a05172-3ad2-46ff-85ea-3a470447ac47\">\n",
              "    <div class=\"colab-df-container\">\n",
              "      <div>\n",
              "<style scoped>\n",
              "    .dataframe tbody tr th:only-of-type {\n",
              "        vertical-align: middle;\n",
              "    }\n",
              "\n",
              "    .dataframe tbody tr th {\n",
              "        vertical-align: top;\n",
              "    }\n",
              "\n",
              "    .dataframe thead th {\n",
              "        text-align: right;\n",
              "    }\n",
              "</style>\n",
              "<table border=\"1\" class=\"dataframe\">\n",
              "  <thead>\n",
              "    <tr style=\"text-align: right;\">\n",
              "      <th></th>\n",
              "      <th>index</th>\n",
              "      <th>encounter_id</th>\n",
              "      <th>patient_id</th>\n",
              "      <th>time_in_hospital</th>\n",
              "      <th>num_lab_procedures</th>\n",
              "      <th>num_procedures</th>\n",
              "      <th>num_medications</th>\n",
              "      <th>number_outpatient</th>\n",
              "      <th>number_emergency</th>\n",
              "      <th>number_inpatient</th>\n",
              "      <th>diag_5</th>\n",
              "      <th>number_diagnoses</th>\n",
              "      <th>readmitted</th>\n",
              "    </tr>\n",
              "  </thead>\n",
              "  <tbody>\n",
              "    <tr>\n",
              "      <th>count</th>\n",
              "      <td>66587.000000</td>\n",
              "      <td>6.658700e+04</td>\n",
              "      <td>6.658700e+04</td>\n",
              "      <td>66587.000000</td>\n",
              "      <td>66587.000000</td>\n",
              "      <td>66587.000000</td>\n",
              "      <td>66587.000000</td>\n",
              "      <td>66587.000000</td>\n",
              "      <td>66587.000000</td>\n",
              "      <td>66587.000000</td>\n",
              "      <td>66587.000000</td>\n",
              "      <td>66587.000000</td>\n",
              "      <td>66587.000000</td>\n",
              "    </tr>\n",
              "    <tr>\n",
              "      <th>mean</th>\n",
              "      <td>50903.474282</td>\n",
              "      <td>1.653153e+08</td>\n",
              "      <td>5.422970e+07</td>\n",
              "      <td>4.397510</td>\n",
              "      <td>43.115533</td>\n",
              "      <td>1.331521</td>\n",
              "      <td>16.028744</td>\n",
              "      <td>0.365672</td>\n",
              "      <td>0.200460</td>\n",
              "      <td>0.637602</td>\n",
              "      <td>49.703387</td>\n",
              "      <td>7.424948</td>\n",
              "      <td>0.462012</td>\n",
              "    </tr>\n",
              "    <tr>\n",
              "      <th>std</th>\n",
              "      <td>29480.255515</td>\n",
              "      <td>1.030035e+08</td>\n",
              "      <td>3.878819e+07</td>\n",
              "      <td>2.980995</td>\n",
              "      <td>19.630417</td>\n",
              "      <td>1.705746</td>\n",
              "      <td>8.125304</td>\n",
              "      <td>1.221861</td>\n",
              "      <td>0.905503</td>\n",
              "      <td>1.255487</td>\n",
              "      <td>28.864879</td>\n",
              "      <td>1.933061</td>\n",
              "      <td>0.498559</td>\n",
              "    </tr>\n",
              "    <tr>\n",
              "      <th>min</th>\n",
              "      <td>0.000000</td>\n",
              "      <td>1.573800e+04</td>\n",
              "      <td>1.350000e+02</td>\n",
              "      <td>1.000000</td>\n",
              "      <td>1.000000</td>\n",
              "      <td>0.000000</td>\n",
              "      <td>1.000000</td>\n",
              "      <td>0.000000</td>\n",
              "      <td>0.000000</td>\n",
              "      <td>0.000000</td>\n",
              "      <td>0.000283</td>\n",
              "      <td>1.000000</td>\n",
              "      <td>0.000000</td>\n",
              "    </tr>\n",
              "    <tr>\n",
              "      <th>25%</th>\n",
              "      <td>25166.500000</td>\n",
              "      <td>8.440328e+07</td>\n",
              "      <td>2.338646e+07</td>\n",
              "      <td>2.000000</td>\n",
              "      <td>31.000000</td>\n",
              "      <td>0.000000</td>\n",
              "      <td>10.000000</td>\n",
              "      <td>0.000000</td>\n",
              "      <td>0.000000</td>\n",
              "      <td>0.000000</td>\n",
              "      <td>24.622056</td>\n",
              "      <td>6.000000</td>\n",
              "      <td>0.000000</td>\n",
              "    </tr>\n",
              "    <tr>\n",
              "      <th>50%</th>\n",
              "      <td>51129.000000</td>\n",
              "      <td>1.528504e+08</td>\n",
              "      <td>4.526103e+07</td>\n",
              "      <td>4.000000</td>\n",
              "      <td>44.000000</td>\n",
              "      <td>1.000000</td>\n",
              "      <td>15.000000</td>\n",
              "      <td>0.000000</td>\n",
              "      <td>0.000000</td>\n",
              "      <td>0.000000</td>\n",
              "      <td>49.508499</td>\n",
              "      <td>8.000000</td>\n",
              "      <td>0.000000</td>\n",
              "    </tr>\n",
              "    <tr>\n",
              "      <th>75%</th>\n",
              "      <td>76380.000000</td>\n",
              "      <td>2.305049e+08</td>\n",
              "      <td>8.727185e+07</td>\n",
              "      <td>6.000000</td>\n",
              "      <td>57.000000</td>\n",
              "      <td>2.000000</td>\n",
              "      <td>20.000000</td>\n",
              "      <td>0.000000</td>\n",
              "      <td>0.000000</td>\n",
              "      <td>1.000000</td>\n",
              "      <td>74.637294</td>\n",
              "      <td>9.000000</td>\n",
              "      <td>1.000000</td>\n",
              "    </tr>\n",
              "    <tr>\n",
              "      <th>max</th>\n",
              "      <td>101765.000000</td>\n",
              "      <td>4.438672e+08</td>\n",
              "      <td>1.893494e+08</td>\n",
              "      <td>14.000000</td>\n",
              "      <td>129.000000</td>\n",
              "      <td>6.000000</td>\n",
              "      <td>81.000000</td>\n",
              "      <td>39.000000</td>\n",
              "      <td>63.000000</td>\n",
              "      <td>19.000000</td>\n",
              "      <td>99.995810</td>\n",
              "      <td>16.000000</td>\n",
              "      <td>1.000000</td>\n",
              "    </tr>\n",
              "  </tbody>\n",
              "</table>\n",
              "</div>\n",
              "      <button class=\"colab-df-convert\" onclick=\"convertToInteractive('df-e4a05172-3ad2-46ff-85ea-3a470447ac47')\"\n",
              "              title=\"Convert this dataframe to an interactive table.\"\n",
              "              style=\"display:none;\">\n",
              "        \n",
              "  <svg xmlns=\"http://www.w3.org/2000/svg\" height=\"24px\"viewBox=\"0 0 24 24\"\n",
              "       width=\"24px\">\n",
              "    <path d=\"M0 0h24v24H0V0z\" fill=\"none\"/>\n",
              "    <path d=\"M18.56 5.44l.94 2.06.94-2.06 2.06-.94-2.06-.94-.94-2.06-.94 2.06-2.06.94zm-11 1L8.5 8.5l.94-2.06 2.06-.94-2.06-.94L8.5 2.5l-.94 2.06-2.06.94zm10 10l.94 2.06.94-2.06 2.06-.94-2.06-.94-.94-2.06-.94 2.06-2.06.94z\"/><path d=\"M17.41 7.96l-1.37-1.37c-.4-.4-.92-.59-1.43-.59-.52 0-1.04.2-1.43.59L10.3 9.45l-7.72 7.72c-.78.78-.78 2.05 0 2.83L4 21.41c.39.39.9.59 1.41.59.51 0 1.02-.2 1.41-.59l7.78-7.78 2.81-2.81c.8-.78.8-2.07 0-2.86zM5.41 20L4 18.59l7.72-7.72 1.47 1.35L5.41 20z\"/>\n",
              "  </svg>\n",
              "      </button>\n",
              "      \n",
              "  <style>\n",
              "    .colab-df-container {\n",
              "      display:flex;\n",
              "      flex-wrap:wrap;\n",
              "      gap: 12px;\n",
              "    }\n",
              "\n",
              "    .colab-df-convert {\n",
              "      background-color: #E8F0FE;\n",
              "      border: none;\n",
              "      border-radius: 50%;\n",
              "      cursor: pointer;\n",
              "      display: none;\n",
              "      fill: #1967D2;\n",
              "      height: 32px;\n",
              "      padding: 0 0 0 0;\n",
              "      width: 32px;\n",
              "    }\n",
              "\n",
              "    .colab-df-convert:hover {\n",
              "      background-color: #E2EBFA;\n",
              "      box-shadow: 0px 1px 2px rgba(60, 64, 67, 0.3), 0px 1px 3px 1px rgba(60, 64, 67, 0.15);\n",
              "      fill: #174EA6;\n",
              "    }\n",
              "\n",
              "    [theme=dark] .colab-df-convert {\n",
              "      background-color: #3B4455;\n",
              "      fill: #D2E3FC;\n",
              "    }\n",
              "\n",
              "    [theme=dark] .colab-df-convert:hover {\n",
              "      background-color: #434B5C;\n",
              "      box-shadow: 0px 1px 3px 1px rgba(0, 0, 0, 0.15);\n",
              "      filter: drop-shadow(0px 1px 2px rgba(0, 0, 0, 0.3));\n",
              "      fill: #FFFFFF;\n",
              "    }\n",
              "  </style>\n",
              "\n",
              "      <script>\n",
              "        const buttonEl =\n",
              "          document.querySelector('#df-e4a05172-3ad2-46ff-85ea-3a470447ac47 button.colab-df-convert');\n",
              "        buttonEl.style.display =\n",
              "          google.colab.kernel.accessAllowed ? 'block' : 'none';\n",
              "\n",
              "        async function convertToInteractive(key) {\n",
              "          const element = document.querySelector('#df-e4a05172-3ad2-46ff-85ea-3a470447ac47');\n",
              "          const dataTable =\n",
              "            await google.colab.kernel.invokeFunction('convertToInteractive',\n",
              "                                                     [key], {});\n",
              "          if (!dataTable) return;\n",
              "\n",
              "          const docLinkHtml = 'Like what you see? Visit the ' +\n",
              "            '<a target=\"_blank\" href=https://colab.research.google.com/notebooks/data_table.ipynb>data table notebook</a>'\n",
              "            + ' to learn more about interactive tables.';\n",
              "          element.innerHTML = '';\n",
              "          dataTable['output_type'] = 'display_data';\n",
              "          await google.colab.output.renderOutput(dataTable, element);\n",
              "          const docLink = document.createElement('div');\n",
              "          docLink.innerHTML = docLinkHtml;\n",
              "          element.appendChild(docLink);\n",
              "        }\n",
              "      </script>\n",
              "    </div>\n",
              "  </div>\n",
              "  "
            ]
          },
          "metadata": {},
          "execution_count": 6
        }
      ]
    },
    {
      "cell_type": "code",
      "source": [
        "df.info()"
      ],
      "metadata": {
        "colab": {
          "base_uri": "https://localhost:8080/"
        },
        "id": "OeNqnfBRL0Zy",
        "outputId": "32623823-ee27-4539-e278-fe6b7c63c5f6"
      },
      "execution_count": null,
      "outputs": [
        {
          "output_type": "stream",
          "name": "stdout",
          "text": [
            "<class 'pandas.core.frame.DataFrame'>\n",
            "RangeIndex: 66587 entries, 0 to 66586\n",
            "Data columns (total 49 columns):\n",
            " #   Column              Non-Null Count  Dtype  \n",
            "---  ------              --------------  -----  \n",
            " 0   index               66587 non-null  int64  \n",
            " 1   encounter_id        66587 non-null  int64  \n",
            " 2   patient_id          66587 non-null  int64  \n",
            " 3   race                66587 non-null  object \n",
            " 4   gender              66587 non-null  object \n",
            " 5   age                 66587 non-null  object \n",
            " 6   weight              66587 non-null  object \n",
            " 7   time_in_hospital    66587 non-null  int64  \n",
            " 8   medical_specialty   66587 non-null  object \n",
            " 9   num_lab_procedures  66587 non-null  int64  \n",
            " 10  num_procedures      66587 non-null  int64  \n",
            " 11  num_medications     66587 non-null  int64  \n",
            " 12  number_outpatient   66587 non-null  int64  \n",
            " 13  number_emergency    66587 non-null  int64  \n",
            " 14  number_inpatient    66587 non-null  int64  \n",
            " 15  diag_1              66587 non-null  object \n",
            " 16  diag_2              66587 non-null  object \n",
            " 17  diag_3              66587 non-null  object \n",
            " 18  diag_4              66587 non-null  object \n",
            " 19  diag_5              66587 non-null  float64\n",
            " 20  number_diagnoses    66587 non-null  int64  \n",
            " 21  X1                  66587 non-null  object \n",
            " 22  X2                  66587 non-null  object \n",
            " 23  X3                  66587 non-null  object \n",
            " 24  X4                  66587 non-null  object \n",
            " 25  X5                  66587 non-null  object \n",
            " 26  X6                  66587 non-null  object \n",
            " 27  X7                  66587 non-null  object \n",
            " 28  X8                  66587 non-null  object \n",
            " 29  X9                  66587 non-null  object \n",
            " 30  X10                 66587 non-null  object \n",
            " 31  X11                 66587 non-null  object \n",
            " 32  X12                 66587 non-null  object \n",
            " 33  X13                 66587 non-null  object \n",
            " 34  X14                 66587 non-null  object \n",
            " 35  X15                 66587 non-null  object \n",
            " 36  X16                 66587 non-null  object \n",
            " 37  X17                 66587 non-null  object \n",
            " 38  X18                 66587 non-null  object \n",
            " 39  X19                 66587 non-null  object \n",
            " 40  X20                 66587 non-null  object \n",
            " 41  X21                 66587 non-null  object \n",
            " 42  X22                 66587 non-null  object \n",
            " 43  X23                 66587 non-null  object \n",
            " 44  X24                 66587 non-null  object \n",
            " 45  X25                 66587 non-null  object \n",
            " 46  change              66587 non-null  object \n",
            " 47  diabetesMed         66587 non-null  object \n",
            " 48  readmitted          66587 non-null  int64  \n",
            "dtypes: float64(1), int64(12), object(36)\n",
            "memory usage: 24.9+ MB\n"
          ]
        }
      ]
    },
    {
      "cell_type": "code",
      "source": [
        "df = df.drop(['index', 'encounter_id', 'patient_id', 'race', 'weight', 'medical_specialty'],axis = 1)"
      ],
      "metadata": {
        "id": "JLSkBk2UL7Kq"
      },
      "execution_count": null,
      "outputs": []
    },
    {
      "cell_type": "code",
      "source": [
        "df.nunique()"
      ],
      "metadata": {
        "colab": {
          "base_uri": "https://localhost:8080/"
        },
        "id": "nDioAvb0MGQ8",
        "outputId": "de46f822-95b9-42f7-dfaf-72c0fb5b41fa"
      },
      "execution_count": null,
      "outputs": [
        {
          "output_type": "execute_result",
          "data": {
            "text/plain": [
              "gender                    3\n",
              "age                      10\n",
              "time_in_hospital         14\n",
              "num_lab_procedures      113\n",
              "num_procedures            7\n",
              "num_medications          71\n",
              "number_outpatient        33\n",
              "number_emergency         26\n",
              "number_inpatient         19\n",
              "diag_1                  652\n",
              "diag_2                  656\n",
              "diag_3                  707\n",
              "diag_4                  707\n",
              "diag_5                48911\n",
              "number_diagnoses         16\n",
              "X1                        4\n",
              "X2                        4\n",
              "X3                        4\n",
              "X4                        4\n",
              "X5                        4\n",
              "X6                        3\n",
              "X7                        4\n",
              "X8                        1\n",
              "X9                        4\n",
              "X10                       4\n",
              "X11                       2\n",
              "X12                       4\n",
              "X13                       4\n",
              "X14                       4\n",
              "X15                       3\n",
              "X16                       2\n",
              "X17                       2\n",
              "X18                       1\n",
              "X19                       1\n",
              "X20                       4\n",
              "X21                       4\n",
              "X22                       2\n",
              "X23                       2\n",
              "X24                       2\n",
              "X25                       1\n",
              "change                    2\n",
              "diabetesMed               2\n",
              "readmitted                2\n",
              "dtype: int64"
            ]
          },
          "metadata": {},
          "execution_count": 9
        }
      ]
    },
    {
      "cell_type": "code",
      "source": [
        "df.isnull().sum()"
      ],
      "metadata": {
        "colab": {
          "base_uri": "https://localhost:8080/"
        },
        "id": "qgk4mBP-MaNV",
        "outputId": "cbf43f67-98b1-4a71-ec97-896ea83d0d87"
      },
      "execution_count": null,
      "outputs": [
        {
          "output_type": "execute_result",
          "data": {
            "text/plain": [
              "gender                0\n",
              "age                   0\n",
              "time_in_hospital      0\n",
              "num_lab_procedures    0\n",
              "num_procedures        0\n",
              "num_medications       0\n",
              "number_outpatient     0\n",
              "number_emergency      0\n",
              "number_inpatient      0\n",
              "diag_1                0\n",
              "diag_2                0\n",
              "diag_3                0\n",
              "diag_4                0\n",
              "diag_5                0\n",
              "number_diagnoses      0\n",
              "X1                    0\n",
              "X2                    0\n",
              "X3                    0\n",
              "X4                    0\n",
              "X5                    0\n",
              "X6                    0\n",
              "X7                    0\n",
              "X8                    0\n",
              "X9                    0\n",
              "X10                   0\n",
              "X11                   0\n",
              "X12                   0\n",
              "X13                   0\n",
              "X14                   0\n",
              "X15                   0\n",
              "X16                   0\n",
              "X17                   0\n",
              "X18                   0\n",
              "X19                   0\n",
              "X20                   0\n",
              "X21                   0\n",
              "X22                   0\n",
              "X23                   0\n",
              "X24                   0\n",
              "X25                   0\n",
              "change                0\n",
              "diabetesMed           0\n",
              "readmitted            0\n",
              "dtype: int64"
            ]
          },
          "metadata": {},
          "execution_count": 10
        }
      ]
    },
    {
      "cell_type": "code",
      "source": [
        "Age = []\n",
        "for i in df['age']:\n",
        "  if i == '[80-90)':\n",
        "    Age.append(85)\n",
        "  elif i == '[60-70)':\n",
        "    Age.append(65)\n",
        "  elif i == '[50-60)':\n",
        "    Age.append(55)\n",
        "  elif i == '[70-80)':\n",
        "    Age.append(75)\n",
        "  elif i == '[40-50)':\n",
        "    Age.append(45)\n",
        "  elif i == '[20-30)':\n",
        "    Age.append(25)\n",
        "  elif i == '[30-40)':\n",
        "    Age.append(35)\n",
        "  elif i == '[90-100)':\n",
        "    Age.append(95)\n",
        "  elif i == '[0-10)':\n",
        "    Age.append(5)\n",
        "  else:\n",
        "    Age.append(15)"
      ],
      "metadata": {
        "id": "uDydIVsXMhWd"
      },
      "execution_count": null,
      "outputs": []
    },
    {
      "cell_type": "code",
      "source": [
        "df['age'] = Age\n",
        "df.age"
      ],
      "metadata": {
        "colab": {
          "base_uri": "https://localhost:8080/"
        },
        "id": "vb4gXZWcMspD",
        "outputId": "b6937373-1b29-4d14-f2c1-5b8c250b96ca"
      },
      "execution_count": null,
      "outputs": [
        {
          "output_type": "execute_result",
          "data": {
            "text/plain": [
              "0        85\n",
              "1        65\n",
              "2        55\n",
              "3        75\n",
              "4        75\n",
              "         ..\n",
              "66582    75\n",
              "66583    85\n",
              "66584    65\n",
              "66585    85\n",
              "66586    85\n",
              "Name: age, Length: 66587, dtype: int64"
            ]
          },
          "metadata": {},
          "execution_count": 12
        }
      ]
    },
    {
      "cell_type": "code",
      "source": [
        "df['diag_1'] =  pd.to_numeric(df['diag_1'].apply(lambda x: np.nan if x[0].isnumeric() == False else x))\n",
        "df['diag_2'] =  pd.to_numeric(df['diag_2'].apply(lambda x: np.nan if x[0].isnumeric() == False else x))\n",
        "df['diag_3'] =  pd.to_numeric(df['diag_3'].apply(lambda x: np.nan if x[0].isnumeric() == False else x))\n",
        "df['diag_4'] =  pd.to_numeric(df['diag_4'].apply(lambda x: np.nan if x[0].isnumeric() == False else x))"
      ],
      "metadata": {
        "id": "t9mnBV5DM2b4"
      },
      "execution_count": null,
      "outputs": []
    },
    {
      "cell_type": "code",
      "source": [
        "df['diag_1'].fillna(df['diag_1'].mean(), inplace=True)\n",
        "df['diag_2'].fillna(df['diag_1'].mean(), inplace=True)\n",
        "df['diag_3'].fillna(df['diag_1'].mean(), inplace=True)\n",
        "df['diag_4'].fillna(df['diag_1'].mean(), inplace=True)"
      ],
      "metadata": {
        "id": "hBEMH1ARNHy1"
      },
      "execution_count": null,
      "outputs": []
    },
    {
      "cell_type": "code",
      "source": [
        "df['X1'].unique()"
      ],
      "metadata": {
        "colab": {
          "base_uri": "https://localhost:8080/"
        },
        "id": "OIN_EBJvOZG4",
        "outputId": "970529a5-4dc6-46fc-f363-cdca32cf8aa8"
      },
      "execution_count": null,
      "outputs": [
        {
          "output_type": "execute_result",
          "data": {
            "text/plain": [
              "array(['None', '>200', 'Norm', '>300'], dtype=object)"
            ]
          },
          "metadata": {},
          "execution_count": 15
        }
      ]
    },
    {
      "cell_type": "code",
      "source": [
        "df['X2'].unique()"
      ],
      "metadata": {
        "colab": {
          "base_uri": "https://localhost:8080/"
        },
        "id": "c8jz9-ONOcJn",
        "outputId": "f164ae9a-3550-4d06-ffba-535bbf407e1a"
      },
      "execution_count": null,
      "outputs": [
        {
          "output_type": "execute_result",
          "data": {
            "text/plain": [
              "array(['None', 'Norm', '>8', '>7'], dtype=object)"
            ]
          },
          "metadata": {},
          "execution_count": 16
        }
      ]
    },
    {
      "cell_type": "code",
      "source": [
        "df['X3'].unique()"
      ],
      "metadata": {
        "colab": {
          "base_uri": "https://localhost:8080/"
        },
        "id": "AJTPYg5FOfjB",
        "outputId": "df9017f3-4113-44de-e5c1-e45e0cc1b01f"
      },
      "execution_count": null,
      "outputs": [
        {
          "output_type": "execute_result",
          "data": {
            "text/plain": [
              "array(['No', 'Steady', 'Up', 'Down'], dtype=object)"
            ]
          },
          "metadata": {},
          "execution_count": 17
        }
      ]
    },
    {
      "cell_type": "code",
      "source": [
        "df['X4'].unique()"
      ],
      "metadata": {
        "colab": {
          "base_uri": "https://localhost:8080/"
        },
        "id": "4_4Xxfl6Oq46",
        "outputId": "15c2bf3f-1ba1-4fca-eb47-bccd4035b686"
      },
      "execution_count": null,
      "outputs": [
        {
          "output_type": "execute_result",
          "data": {
            "text/plain": [
              "array(['No', 'Steady', 'Up', 'Down'], dtype=object)"
            ]
          },
          "metadata": {},
          "execution_count": 18
        }
      ]
    },
    {
      "cell_type": "code",
      "source": [
        "df['X5'].unique()"
      ],
      "metadata": {
        "colab": {
          "base_uri": "https://localhost:8080/"
        },
        "id": "0i-IXBQvOtbT",
        "outputId": "f263ac2b-ec12-46cf-d80e-3cf6850db602"
      },
      "execution_count": null,
      "outputs": [
        {
          "output_type": "execute_result",
          "data": {
            "text/plain": [
              "array(['No', 'Steady', 'Down', 'Up'], dtype=object)"
            ]
          },
          "metadata": {},
          "execution_count": 19
        }
      ]
    },
    {
      "cell_type": "code",
      "source": [
        "df['X6'].unique()"
      ],
      "metadata": {
        "colab": {
          "base_uri": "https://localhost:8080/"
        },
        "id": "AHTZuqyvO1KO",
        "outputId": "297c0ac1-3dcb-4960-95e4-eb64175726cb"
      },
      "execution_count": null,
      "outputs": [
        {
          "output_type": "execute_result",
          "data": {
            "text/plain": [
              "array(['No', 'Steady', 'Up'], dtype=object)"
            ]
          },
          "metadata": {},
          "execution_count": 20
        }
      ]
    },
    {
      "cell_type": "code",
      "source": [
        "df['X7'].unique()"
      ],
      "metadata": {
        "colab": {
          "base_uri": "https://localhost:8080/"
        },
        "id": "VlpiqlblO9tg",
        "outputId": "97c9b54f-04d9-4909-b3ca-be4291b03166"
      },
      "execution_count": null,
      "outputs": [
        {
          "output_type": "execute_result",
          "data": {
            "text/plain": [
              "array(['No', 'Steady', 'Up', 'Down'], dtype=object)"
            ]
          },
          "metadata": {},
          "execution_count": 21
        }
      ]
    },
    {
      "cell_type": "code",
      "source": [
        "df['X8'].unique()"
      ],
      "metadata": {
        "colab": {
          "base_uri": "https://localhost:8080/"
        },
        "id": "9kwgN873O-oX",
        "outputId": "0c48295e-82eb-402f-8de3-6326f030d151"
      },
      "execution_count": null,
      "outputs": [
        {
          "output_type": "execute_result",
          "data": {
            "text/plain": [
              "array(['No'], dtype=object)"
            ]
          },
          "metadata": {},
          "execution_count": 22
        }
      ]
    },
    {
      "cell_type": "code",
      "source": [
        "df['X9'].unique()"
      ],
      "metadata": {
        "colab": {
          "base_uri": "https://localhost:8080/"
        },
        "id": "Kohz1ZIlPAVt",
        "outputId": "f747a5b8-a2e2-4c1b-96af-db30dc77083a"
      },
      "execution_count": null,
      "outputs": [
        {
          "output_type": "execute_result",
          "data": {
            "text/plain": [
              "array(['No', 'Steady', 'Up', 'Down'], dtype=object)"
            ]
          },
          "metadata": {},
          "execution_count": 23
        }
      ]
    },
    {
      "cell_type": "code",
      "source": [
        "df['X10'].unique()"
      ],
      "metadata": {
        "colab": {
          "base_uri": "https://localhost:8080/"
        },
        "id": "5OOleuYHPBZ6",
        "outputId": "0899a4f7-169e-46d7-ab32-f4968e8b58ea"
      },
      "execution_count": null,
      "outputs": [
        {
          "output_type": "execute_result",
          "data": {
            "text/plain": [
              "array(['No', 'Down', 'Steady', 'Up'], dtype=object)"
            ]
          },
          "metadata": {},
          "execution_count": 24
        }
      ]
    },
    {
      "cell_type": "code",
      "source": [
        "df['X11'].unique()"
      ],
      "metadata": {
        "colab": {
          "base_uri": "https://localhost:8080/"
        },
        "id": "aL8ONz6iPCL8",
        "outputId": "2d91eb93-ba74-41f4-a769-5d2ce96a58f6"
      },
      "execution_count": null,
      "outputs": [
        {
          "output_type": "execute_result",
          "data": {
            "text/plain": [
              "array(['No', 'Steady'], dtype=object)"
            ]
          },
          "metadata": {},
          "execution_count": 25
        }
      ]
    },
    {
      "cell_type": "code",
      "source": [
        "df['X12'].unique()"
      ],
      "metadata": {
        "colab": {
          "base_uri": "https://localhost:8080/"
        },
        "id": "Z3cZi-nyPCyv",
        "outputId": "daac916a-b920-4ee5-fe54-f788c584babc"
      },
      "execution_count": null,
      "outputs": [
        {
          "output_type": "execute_result",
          "data": {
            "text/plain": [
              "array(['No', 'Steady', 'Down', 'Up'], dtype=object)"
            ]
          },
          "metadata": {},
          "execution_count": 26
        }
      ]
    },
    {
      "cell_type": "code",
      "source": [
        "df['X13'].unique()"
      ],
      "metadata": {
        "colab": {
          "base_uri": "https://localhost:8080/"
        },
        "id": "bAh31IUOPDSu",
        "outputId": "1091350e-bbfb-44a1-c770-9878f42783c2"
      },
      "execution_count": null,
      "outputs": [
        {
          "output_type": "execute_result",
          "data": {
            "text/plain": [
              "array(['Steady', 'No', 'Up', 'Down'], dtype=object)"
            ]
          },
          "metadata": {},
          "execution_count": 27
        }
      ]
    },
    {
      "cell_type": "code",
      "source": [
        "df['X14'].unique()"
      ],
      "metadata": {
        "colab": {
          "base_uri": "https://localhost:8080/"
        },
        "id": "XotBSmAKPDye",
        "outputId": "e833901b-b906-4d21-f7cb-59d20806ceef"
      },
      "execution_count": null,
      "outputs": [
        {
          "output_type": "execute_result",
          "data": {
            "text/plain": [
              "array(['No', 'Steady', 'Up', 'Down'], dtype=object)"
            ]
          },
          "metadata": {},
          "execution_count": 28
        }
      ]
    },
    {
      "cell_type": "code",
      "source": [
        "df['X15'].unique()"
      ],
      "metadata": {
        "colab": {
          "base_uri": "https://localhost:8080/"
        },
        "id": "LijQuwQIPEMn",
        "outputId": "33f88d89-388f-48f6-edaf-30911b9c1498"
      },
      "execution_count": null,
      "outputs": [
        {
          "output_type": "execute_result",
          "data": {
            "text/plain": [
              "array(['No', 'Down', 'Steady'], dtype=object)"
            ]
          },
          "metadata": {},
          "execution_count": 29
        }
      ]
    },
    {
      "cell_type": "code",
      "source": [
        "df['X16'].unique()"
      ],
      "metadata": {
        "colab": {
          "base_uri": "https://localhost:8080/"
        },
        "id": "24yY3f8RPEmU",
        "outputId": "04b96cbc-fc0d-45f9-c08d-35e9cb86c537"
      },
      "execution_count": null,
      "outputs": [
        {
          "output_type": "execute_result",
          "data": {
            "text/plain": [
              "array(['No', 'Steady'], dtype=object)"
            ]
          },
          "metadata": {},
          "execution_count": 30
        }
      ]
    },
    {
      "cell_type": "code",
      "source": [
        "df['X17'].unique()"
      ],
      "metadata": {
        "colab": {
          "base_uri": "https://localhost:8080/"
        },
        "id": "jpsKu4CaPFRl",
        "outputId": "90018168-2abb-4de1-93bf-64dbc64e874e"
      },
      "execution_count": null,
      "outputs": [
        {
          "output_type": "execute_result",
          "data": {
            "text/plain": [
              "array(['No', 'Steady'], dtype=object)"
            ]
          },
          "metadata": {},
          "execution_count": 31
        }
      ]
    },
    {
      "cell_type": "code",
      "source": [
        "df['X18'].unique()"
      ],
      "metadata": {
        "colab": {
          "base_uri": "https://localhost:8080/"
        },
        "id": "s_keCJzHPFwf",
        "outputId": "fc140f34-a505-4808-c87d-cc8bc229303f"
      },
      "execution_count": null,
      "outputs": [
        {
          "output_type": "execute_result",
          "data": {
            "text/plain": [
              "array(['No'], dtype=object)"
            ]
          },
          "metadata": {},
          "execution_count": 32
        }
      ]
    },
    {
      "cell_type": "code",
      "source": [
        "df['X19'].unique()"
      ],
      "metadata": {
        "colab": {
          "base_uri": "https://localhost:8080/"
        },
        "id": "Rm_PRBMsPGKj",
        "outputId": "1e8f491e-eeb7-4d0e-f6e2-7e0b1e1f373a"
      },
      "execution_count": null,
      "outputs": [
        {
          "output_type": "execute_result",
          "data": {
            "text/plain": [
              "array(['No'], dtype=object)"
            ]
          },
          "metadata": {},
          "execution_count": 33
        }
      ]
    },
    {
      "cell_type": "code",
      "source": [
        "df['X20'].unique()"
      ],
      "metadata": {
        "colab": {
          "base_uri": "https://localhost:8080/"
        },
        "id": "pGiyTcwVPGsO",
        "outputId": "f153c03d-30f7-4573-ba73-0e39f7d97f7b"
      },
      "execution_count": null,
      "outputs": [
        {
          "output_type": "execute_result",
          "data": {
            "text/plain": [
              "array(['No', 'Down', 'Up', 'Steady'], dtype=object)"
            ]
          },
          "metadata": {},
          "execution_count": 34
        }
      ]
    },
    {
      "cell_type": "code",
      "source": [
        "df['X21'].unique()"
      ],
      "metadata": {
        "colab": {
          "base_uri": "https://localhost:8080/"
        },
        "id": "MJJn-lcUPHHx",
        "outputId": "6e1448da-0a13-4ae5-d7ac-511fae62b852"
      },
      "execution_count": null,
      "outputs": [
        {
          "output_type": "execute_result",
          "data": {
            "text/plain": [
              "array(['No', 'Steady', 'Down', 'Up'], dtype=object)"
            ]
          },
          "metadata": {},
          "execution_count": 35
        }
      ]
    },
    {
      "cell_type": "code",
      "source": [
        "df['X22'].unique()"
      ],
      "metadata": {
        "colab": {
          "base_uri": "https://localhost:8080/"
        },
        "id": "MnucQrTCPHiR",
        "outputId": "168505af-3c1f-4577-a47c-f999668addf8"
      },
      "execution_count": null,
      "outputs": [
        {
          "output_type": "execute_result",
          "data": {
            "text/plain": [
              "array(['No', 'Steady'], dtype=object)"
            ]
          },
          "metadata": {},
          "execution_count": 36
        }
      ]
    },
    {
      "cell_type": "code",
      "source": [
        "df['X23'].unique()"
      ],
      "metadata": {
        "colab": {
          "base_uri": "https://localhost:8080/"
        },
        "id": "lq1vD_kUPH7w",
        "outputId": "5066412c-09d1-441b-e665-124ad08ba0d8"
      },
      "execution_count": null,
      "outputs": [
        {
          "output_type": "execute_result",
          "data": {
            "text/plain": [
              "array(['No', 'Steady'], dtype=object)"
            ]
          },
          "metadata": {},
          "execution_count": 37
        }
      ]
    },
    {
      "cell_type": "code",
      "source": [
        "df['X24'].unique()"
      ],
      "metadata": {
        "colab": {
          "base_uri": "https://localhost:8080/"
        },
        "id": "wXi_v-tlPITx",
        "outputId": "ea6e2c54-c11f-4837-a507-3665a5336f3d"
      },
      "execution_count": null,
      "outputs": [
        {
          "output_type": "execute_result",
          "data": {
            "text/plain": [
              "array(['No', 'Steady'], dtype=object)"
            ]
          },
          "metadata": {},
          "execution_count": 38
        }
      ]
    },
    {
      "cell_type": "code",
      "source": [
        "df['X25'].unique()"
      ],
      "metadata": {
        "colab": {
          "base_uri": "https://localhost:8080/"
        },
        "id": "2KaJrJSLPIrF",
        "outputId": "e492c9c4-1d60-4180-cafb-8b0402e22534"
      },
      "execution_count": null,
      "outputs": [
        {
          "output_type": "execute_result",
          "data": {
            "text/plain": [
              "array(['No'], dtype=object)"
            ]
          },
          "metadata": {},
          "execution_count": 39
        }
      ]
    },
    {
      "cell_type": "code",
      "source": [
        "df = df.drop(['X6', 'X8', 'X11', 'X15', 'X16', 'X17', 'X18', 'X19', 'X22', 'X23', 'X24', 'X25'], axis=1)"
      ],
      "metadata": {
        "id": "OMy_pGT6QUMd"
      },
      "execution_count": null,
      "outputs": []
    },
    {
      "cell_type": "code",
      "source": [
        "df.columns"
      ],
      "metadata": {
        "colab": {
          "base_uri": "https://localhost:8080/"
        },
        "id": "Rg1jE4AfPJCt",
        "outputId": "daa4513b-4323-4a0d-f10d-b6e2af667e9c"
      },
      "execution_count": null,
      "outputs": [
        {
          "output_type": "execute_result",
          "data": {
            "text/plain": [
              "Index(['gender', 'age', 'time_in_hospital', 'num_lab_procedures',\n",
              "       'num_procedures', 'num_medications', 'number_outpatient',\n",
              "       'number_emergency', 'number_inpatient', 'diag_1', 'diag_2', 'diag_3',\n",
              "       'diag_4', 'diag_5', 'number_diagnoses', 'X1', 'X2', 'X3', 'X4', 'X5',\n",
              "       'X7', 'X9', 'X10', 'X12', 'X13', 'X14', 'X20', 'X21', 'change',\n",
              "       'diabetesMed', 'readmitted'],\n",
              "      dtype='object')"
            ]
          },
          "metadata": {},
          "execution_count": 41
        }
      ]
    },
    {
      "cell_type": "code",
      "source": [
        "unique_vals = ['None', 'Norm', '>8', '>7', '>200', '>300','No', 'Steady', 'Up', 'Down']"
      ],
      "metadata": {
        "id": "9KFzKt-NNzQP"
      },
      "execution_count": null,
      "outputs": []
    },
    {
      "cell_type": "code",
      "source": [
        "from sklearn.preprocessing import LabelEncoder"
      ],
      "metadata": {
        "id": "1jREj2HwPf9K"
      },
      "execution_count": null,
      "outputs": []
    },
    {
      "cell_type": "code",
      "source": [
        "le = LabelEncoder()\n",
        "unique_vals1 = le.fit_transform(unique_vals)\n",
        "unique_vals1"
      ],
      "metadata": {
        "colab": {
          "base_uri": "https://localhost:8080/"
        },
        "id": "L8XIAJjZQ3QC",
        "outputId": "d4905b2e-45d5-47b5-f45e-7fc1aa962ea2"
      },
      "execution_count": null,
      "outputs": [
        {
          "output_type": "execute_result",
          "data": {
            "text/plain": [
              "array([6, 7, 3, 2, 0, 1, 5, 8, 9, 4])"
            ]
          },
          "metadata": {},
          "execution_count": 44
        }
      ]
    },
    {
      "cell_type": "code",
      "source": [
        "df.replace(unique_vals, unique_vals1, inplace = True)"
      ],
      "metadata": {
        "id": "Z1S8V27xRA10"
      },
      "execution_count": null,
      "outputs": []
    },
    {
      "cell_type": "code",
      "source": [
        "df.info()"
      ],
      "metadata": {
        "colab": {
          "base_uri": "https://localhost:8080/"
        },
        "id": "9sZ6f9dDRENO",
        "outputId": "da7a77c2-088a-44b3-aef6-81771bf40d2e"
      },
      "execution_count": null,
      "outputs": [
        {
          "output_type": "stream",
          "name": "stdout",
          "text": [
            "<class 'pandas.core.frame.DataFrame'>\n",
            "RangeIndex: 66587 entries, 0 to 66586\n",
            "Data columns (total 31 columns):\n",
            " #   Column              Non-Null Count  Dtype  \n",
            "---  ------              --------------  -----  \n",
            " 0   gender              66587 non-null  object \n",
            " 1   age                 66587 non-null  int64  \n",
            " 2   time_in_hospital    66587 non-null  int64  \n",
            " 3   num_lab_procedures  66587 non-null  int64  \n",
            " 4   num_procedures      66587 non-null  int64  \n",
            " 5   num_medications     66587 non-null  int64  \n",
            " 6   number_outpatient   66587 non-null  int64  \n",
            " 7   number_emergency    66587 non-null  int64  \n",
            " 8   number_inpatient    66587 non-null  int64  \n",
            " 9   diag_1              66587 non-null  float64\n",
            " 10  diag_2              66587 non-null  float64\n",
            " 11  diag_3              66587 non-null  float64\n",
            " 12  diag_4              66587 non-null  float64\n",
            " 13  diag_5              66587 non-null  float64\n",
            " 14  number_diagnoses    66587 non-null  int64  \n",
            " 15  X1                  66587 non-null  int64  \n",
            " 16  X2                  66587 non-null  int64  \n",
            " 17  X3                  66587 non-null  int64  \n",
            " 18  X4                  66587 non-null  int64  \n",
            " 19  X5                  66587 non-null  int64  \n",
            " 20  X7                  66587 non-null  int64  \n",
            " 21  X9                  66587 non-null  int64  \n",
            " 22  X10                 66587 non-null  int64  \n",
            " 23  X12                 66587 non-null  int64  \n",
            " 24  X13                 66587 non-null  int64  \n",
            " 25  X14                 66587 non-null  int64  \n",
            " 26  X20                 66587 non-null  int64  \n",
            " 27  X21                 66587 non-null  int64  \n",
            " 28  change              66587 non-null  object \n",
            " 29  diabetesMed         66587 non-null  object \n",
            " 30  readmitted          66587 non-null  int64  \n",
            "dtypes: float64(5), int64(23), object(3)\n",
            "memory usage: 15.7+ MB\n"
          ]
        }
      ]
    },
    {
      "cell_type": "code",
      "source": [
        "df['gender'].unique()"
      ],
      "metadata": {
        "colab": {
          "base_uri": "https://localhost:8080/"
        },
        "id": "Oc_JMITFRLoH",
        "outputId": "73e5f61e-97d5-4156-f8d1-6c5dcc35c4f4"
      },
      "execution_count": null,
      "outputs": [
        {
          "output_type": "execute_result",
          "data": {
            "text/plain": [
              "array(['Male', 'Female', 'Unknown/Invalid'], dtype=object)"
            ]
          },
          "metadata": {},
          "execution_count": 47
        }
      ]
    },
    {
      "cell_type": "code",
      "source": [
        "g1 = ['Male', 'Female', 'Unknown/Invalid']\n",
        "g2 = le.fit_transform(g1)\n",
        "\n",
        "print(g2)"
      ],
      "metadata": {
        "colab": {
          "base_uri": "https://localhost:8080/"
        },
        "id": "fT5-yZYLLbVe",
        "outputId": "d55b77da-56f0-44b1-8af8-80366fdddce6"
      },
      "execution_count": null,
      "outputs": [
        {
          "output_type": "stream",
          "name": "stdout",
          "text": [
            "[1 0 2]\n"
          ]
        }
      ]
    },
    {
      "cell_type": "code",
      "source": [
        "df['gender'].replace(g1, g2, inplace = True)\n",
        "df['gender'].unique()"
      ],
      "metadata": {
        "colab": {
          "base_uri": "https://localhost:8080/"
        },
        "id": "rcRFlRGiRYPV",
        "outputId": "efa82dbe-0cc1-456c-d80e-54d75b7fee0e"
      },
      "execution_count": null,
      "outputs": [
        {
          "output_type": "execute_result",
          "data": {
            "text/plain": [
              "array([1, 0, 2])"
            ]
          },
          "metadata": {},
          "execution_count": 49
        }
      ]
    },
    {
      "cell_type": "code",
      "source": [
        "df.info()"
      ],
      "metadata": {
        "colab": {
          "base_uri": "https://localhost:8080/"
        },
        "id": "vRasUVHhRkzY",
        "outputId": "935e69ed-3f3b-48ef-c657-a03bf46330de"
      },
      "execution_count": null,
      "outputs": [
        {
          "output_type": "stream",
          "name": "stdout",
          "text": [
            "<class 'pandas.core.frame.DataFrame'>\n",
            "RangeIndex: 66587 entries, 0 to 66586\n",
            "Data columns (total 31 columns):\n",
            " #   Column              Non-Null Count  Dtype  \n",
            "---  ------              --------------  -----  \n",
            " 0   gender              66587 non-null  int64  \n",
            " 1   age                 66587 non-null  int64  \n",
            " 2   time_in_hospital    66587 non-null  int64  \n",
            " 3   num_lab_procedures  66587 non-null  int64  \n",
            " 4   num_procedures      66587 non-null  int64  \n",
            " 5   num_medications     66587 non-null  int64  \n",
            " 6   number_outpatient   66587 non-null  int64  \n",
            " 7   number_emergency    66587 non-null  int64  \n",
            " 8   number_inpatient    66587 non-null  int64  \n",
            " 9   diag_1              66587 non-null  float64\n",
            " 10  diag_2              66587 non-null  float64\n",
            " 11  diag_3              66587 non-null  float64\n",
            " 12  diag_4              66587 non-null  float64\n",
            " 13  diag_5              66587 non-null  float64\n",
            " 14  number_diagnoses    66587 non-null  int64  \n",
            " 15  X1                  66587 non-null  int64  \n",
            " 16  X2                  66587 non-null  int64  \n",
            " 17  X3                  66587 non-null  int64  \n",
            " 18  X4                  66587 non-null  int64  \n",
            " 19  X5                  66587 non-null  int64  \n",
            " 20  X7                  66587 non-null  int64  \n",
            " 21  X9                  66587 non-null  int64  \n",
            " 22  X10                 66587 non-null  int64  \n",
            " 23  X12                 66587 non-null  int64  \n",
            " 24  X13                 66587 non-null  int64  \n",
            " 25  X14                 66587 non-null  int64  \n",
            " 26  X20                 66587 non-null  int64  \n",
            " 27  X21                 66587 non-null  int64  \n",
            " 28  change              66587 non-null  object \n",
            " 29  diabetesMed         66587 non-null  object \n",
            " 30  readmitted          66587 non-null  int64  \n",
            "dtypes: float64(5), int64(24), object(2)\n",
            "memory usage: 15.7+ MB\n"
          ]
        }
      ]
    },
    {
      "cell_type": "code",
      "source": [
        "df['change'].unique()"
      ],
      "metadata": {
        "colab": {
          "base_uri": "https://localhost:8080/"
        },
        "id": "ct7y4Jw0RolM",
        "outputId": "b09efef3-9071-4868-d64f-1b15ad380269"
      },
      "execution_count": null,
      "outputs": [
        {
          "output_type": "execute_result",
          "data": {
            "text/plain": [
              "array([5, 'Ch'], dtype=object)"
            ]
          },
          "metadata": {},
          "execution_count": 51
        }
      ]
    },
    {
      "cell_type": "code",
      "source": [
        "ch1 = ['No', 'Ch']\n",
        "ch2 = le.fit_transform(ch1)\n",
        "\n",
        "print(ch2)"
      ],
      "metadata": {
        "colab": {
          "base_uri": "https://localhost:8080/"
        },
        "id": "CwVj6F2gR4Yj",
        "outputId": "f26b60e6-095a-41d9-cfd5-a71168cc5849"
      },
      "execution_count": null,
      "outputs": [
        {
          "output_type": "stream",
          "name": "stdout",
          "text": [
            "[1 0]\n"
          ]
        }
      ]
    },
    {
      "cell_type": "code",
      "source": [
        "df.replace(ch1,ch2,inplace=True)\n",
        "df['change'].unique()"
      ],
      "metadata": {
        "colab": {
          "base_uri": "https://localhost:8080/"
        },
        "id": "vgdOpoTUR9Jl",
        "outputId": "ce0be216-16c5-4533-a6f2-aa1cb2caca1b"
      },
      "execution_count": null,
      "outputs": [
        {
          "output_type": "execute_result",
          "data": {
            "text/plain": [
              "array([5, 0])"
            ]
          },
          "metadata": {},
          "execution_count": 53
        }
      ]
    },
    {
      "cell_type": "code",
      "source": [
        "df.info()"
      ],
      "metadata": {
        "colab": {
          "base_uri": "https://localhost:8080/"
        },
        "id": "rG9Y-MBPSKUs",
        "outputId": "49b08161-6006-4883-d1a5-5c96933cf213"
      },
      "execution_count": null,
      "outputs": [
        {
          "output_type": "stream",
          "name": "stdout",
          "text": [
            "<class 'pandas.core.frame.DataFrame'>\n",
            "RangeIndex: 66587 entries, 0 to 66586\n",
            "Data columns (total 31 columns):\n",
            " #   Column              Non-Null Count  Dtype  \n",
            "---  ------              --------------  -----  \n",
            " 0   gender              66587 non-null  int64  \n",
            " 1   age                 66587 non-null  int64  \n",
            " 2   time_in_hospital    66587 non-null  int64  \n",
            " 3   num_lab_procedures  66587 non-null  int64  \n",
            " 4   num_procedures      66587 non-null  int64  \n",
            " 5   num_medications     66587 non-null  int64  \n",
            " 6   number_outpatient   66587 non-null  int64  \n",
            " 7   number_emergency    66587 non-null  int64  \n",
            " 8   number_inpatient    66587 non-null  int64  \n",
            " 9   diag_1              66587 non-null  float64\n",
            " 10  diag_2              66587 non-null  float64\n",
            " 11  diag_3              66587 non-null  float64\n",
            " 12  diag_4              66587 non-null  float64\n",
            " 13  diag_5              66587 non-null  float64\n",
            " 14  number_diagnoses    66587 non-null  int64  \n",
            " 15  X1                  66587 non-null  int64  \n",
            " 16  X2                  66587 non-null  int64  \n",
            " 17  X3                  66587 non-null  int64  \n",
            " 18  X4                  66587 non-null  int64  \n",
            " 19  X5                  66587 non-null  int64  \n",
            " 20  X7                  66587 non-null  int64  \n",
            " 21  X9                  66587 non-null  int64  \n",
            " 22  X10                 66587 non-null  int64  \n",
            " 23  X12                 66587 non-null  int64  \n",
            " 24  X13                 66587 non-null  int64  \n",
            " 25  X14                 66587 non-null  int64  \n",
            " 26  X20                 66587 non-null  int64  \n",
            " 27  X21                 66587 non-null  int64  \n",
            " 28  change              66587 non-null  int64  \n",
            " 29  diabetesMed         66587 non-null  object \n",
            " 30  readmitted          66587 non-null  int64  \n",
            "dtypes: float64(5), int64(25), object(1)\n",
            "memory usage: 15.7+ MB\n"
          ]
        }
      ]
    },
    {
      "cell_type": "code",
      "source": [
        "df['diabetesMed'].unique()"
      ],
      "metadata": {
        "colab": {
          "base_uri": "https://localhost:8080/"
        },
        "id": "Z8vgpx7LSTPW",
        "outputId": "afe42831-2692-4dc2-db2f-586c80ac6682"
      },
      "execution_count": null,
      "outputs": [
        {
          "output_type": "execute_result",
          "data": {
            "text/plain": [
              "array(['Yes', 5], dtype=object)"
            ]
          },
          "metadata": {},
          "execution_count": 55
        }
      ]
    },
    {
      "cell_type": "code",
      "source": [
        "dm = ['Yes', 5]\n",
        "dm1 = le.fit_transform(dm)\n",
        "\n",
        "print(dm1)"
      ],
      "metadata": {
        "colab": {
          "base_uri": "https://localhost:8080/"
        },
        "id": "ZPFEhN--SesL",
        "outputId": "27a695c4-5d08-4f8c-c0fe-f1f17251d798"
      },
      "execution_count": null,
      "outputs": [
        {
          "output_type": "stream",
          "name": "stdout",
          "text": [
            "[1 0]\n"
          ]
        }
      ]
    },
    {
      "cell_type": "code",
      "source": [
        "df['diabetesMed'].replace(dm, dm1, inplace=True)\n",
        "df['diabetesMed'].unique()"
      ],
      "metadata": {
        "colab": {
          "base_uri": "https://localhost:8080/"
        },
        "id": "yVyZW6KkSiWh",
        "outputId": "9b622324-7abb-4cfc-d14e-4938231ee977"
      },
      "execution_count": null,
      "outputs": [
        {
          "output_type": "execute_result",
          "data": {
            "text/plain": [
              "array([1, 0])"
            ]
          },
          "metadata": {},
          "execution_count": 57
        }
      ]
    },
    {
      "cell_type": "code",
      "source": [
        "df.info()"
      ],
      "metadata": {
        "colab": {
          "base_uri": "https://localhost:8080/"
        },
        "id": "B3s7TGz4StEa",
        "outputId": "72119116-9395-4f9e-f770-05be669109b6"
      },
      "execution_count": null,
      "outputs": [
        {
          "output_type": "stream",
          "name": "stdout",
          "text": [
            "<class 'pandas.core.frame.DataFrame'>\n",
            "RangeIndex: 66587 entries, 0 to 66586\n",
            "Data columns (total 31 columns):\n",
            " #   Column              Non-Null Count  Dtype  \n",
            "---  ------              --------------  -----  \n",
            " 0   gender              66587 non-null  int64  \n",
            " 1   age                 66587 non-null  int64  \n",
            " 2   time_in_hospital    66587 non-null  int64  \n",
            " 3   num_lab_procedures  66587 non-null  int64  \n",
            " 4   num_procedures      66587 non-null  int64  \n",
            " 5   num_medications     66587 non-null  int64  \n",
            " 6   number_outpatient   66587 non-null  int64  \n",
            " 7   number_emergency    66587 non-null  int64  \n",
            " 8   number_inpatient    66587 non-null  int64  \n",
            " 9   diag_1              66587 non-null  float64\n",
            " 10  diag_2              66587 non-null  float64\n",
            " 11  diag_3              66587 non-null  float64\n",
            " 12  diag_4              66587 non-null  float64\n",
            " 13  diag_5              66587 non-null  float64\n",
            " 14  number_diagnoses    66587 non-null  int64  \n",
            " 15  X1                  66587 non-null  int64  \n",
            " 16  X2                  66587 non-null  int64  \n",
            " 17  X3                  66587 non-null  int64  \n",
            " 18  X4                  66587 non-null  int64  \n",
            " 19  X5                  66587 non-null  int64  \n",
            " 20  X7                  66587 non-null  int64  \n",
            " 21  X9                  66587 non-null  int64  \n",
            " 22  X10                 66587 non-null  int64  \n",
            " 23  X12                 66587 non-null  int64  \n",
            " 24  X13                 66587 non-null  int64  \n",
            " 25  X14                 66587 non-null  int64  \n",
            " 26  X20                 66587 non-null  int64  \n",
            " 27  X21                 66587 non-null  int64  \n",
            " 28  change              66587 non-null  int64  \n",
            " 29  diabetesMed         66587 non-null  int64  \n",
            " 30  readmitted          66587 non-null  int64  \n",
            "dtypes: float64(5), int64(26)\n",
            "memory usage: 15.7 MB\n"
          ]
        }
      ]
    },
    {
      "cell_type": "code",
      "source": [
        "x = df.drop('readmitted', axis=1)\n",
        "y = df['readmitted']"
      ],
      "metadata": {
        "id": "UmhED2uyS0Sa"
      },
      "execution_count": null,
      "outputs": []
    },
    {
      "cell_type": "code",
      "source": [
        "from sklearn.model_selection import train_test_split"
      ],
      "metadata": {
        "id": "GmPgJS2uS8CY"
      },
      "execution_count": null,
      "outputs": []
    },
    {
      "cell_type": "code",
      "source": [
        "x_train, x_test, y_train, y_test = train_test_split(x, y, test_size=0.3, random_state=100)"
      ],
      "metadata": {
        "id": "QIOwUNPaTBuW"
      },
      "execution_count": null,
      "outputs": []
    },
    {
      "cell_type": "code",
      "source": [
        "from sklearn.metrics import confusion_matrix\n",
        "from sklearn.metrics import accuracy_score\n",
        "from sklearn.tree import DecisionTreeClassifier"
      ],
      "metadata": {
        "id": "NRGpIlSeTB73"
      },
      "execution_count": null,
      "outputs": []
    },
    {
      "cell_type": "code",
      "source": [
        "clf = DecisionTreeClassifier()\n",
        "clf.fit(x_train, y_train)\n",
        "clf.score(x_test, y_test)"
      ],
      "metadata": {
        "id": "GUfjvtbAyNDD",
        "colab": {
          "base_uri": "https://localhost:8080/"
        },
        "outputId": "95cc6edf-d73a-4a04-930e-47f1e4f0c5cf"
      },
      "execution_count": null,
      "outputs": [
        {
          "output_type": "execute_result",
          "data": {
            "text/plain": [
              "0.7127696851379086"
            ]
          },
          "metadata": {},
          "execution_count": 63
        }
      ]
    },
    {
      "cell_type": "code",
      "source": [
        "prediction = clf.predict(x_test)"
      ],
      "metadata": {
        "id": "VbGJAyQMTiwi"
      },
      "execution_count": null,
      "outputs": []
    },
    {
      "cell_type": "code",
      "source": [
        "confusion_matrix(y_test, prediction)"
      ],
      "metadata": {
        "id": "RwVIdcqDTi4w",
        "colab": {
          "base_uri": "https://localhost:8080/"
        },
        "outputId": "2b1db790-ce04-4e41-d2d7-8ef10b205f14"
      },
      "execution_count": null,
      "outputs": [
        {
          "output_type": "execute_result",
          "data": {
            "text/plain": [
              "array([[7826, 2925],\n",
              "       [2813, 6413]])"
            ]
          },
          "metadata": {},
          "execution_count": 65
        }
      ]
    },
    {
      "cell_type": "code",
      "source": [],
      "metadata": {
        "id": "ZEXMgKLGn2M_"
      },
      "execution_count": null,
      "outputs": []
    },
    {
      "cell_type": "code",
      "source": [
        "def evaluate_model(clf):\n",
        "    print(\"Train Accuracy :\", accuracy_score(y_train, clf.predict(x_train)))\n",
        "    print(\"Train Confusion Matrix:\")\n",
        "    print(confusion_matrix(y_train, clf.predict(x_train)))\n",
        "    print(\"-\"*50)\n",
        "    print(\"Test Accuracy :\", accuracy_score(y_test, clf.predict(x_test)))\n",
        "    print(\"Test Confusion Matrix:\")\n",
        "    print(confusion_matrix(y_test, clf.predict(x_test)))"
      ],
      "metadata": {
        "id": "9OCBzg1J8tS6"
      },
      "execution_count": null,
      "outputs": []
    },
    {
      "cell_type": "code",
      "source": [
        "clf = DecisionTreeClassifier(max_depth=3)\n",
        "clf.fit(x_train, y_train)"
      ],
      "metadata": {
        "id": "RU1rcifAB9XN",
        "colab": {
          "base_uri": "https://localhost:8080/"
        },
        "outputId": "1c08e215-b652-4047-cee1-b3fba45f27ea"
      },
      "execution_count": null,
      "outputs": [
        {
          "output_type": "execute_result",
          "data": {
            "text/plain": [
              "DecisionTreeClassifier(max_depth=3)"
            ]
          },
          "metadata": {},
          "execution_count": 67
        }
      ]
    },
    {
      "cell_type": "code",
      "source": [
        "evaluate_model(clf)"
      ],
      "metadata": {
        "id": "cIm35mPsCKvR",
        "colab": {
          "base_uri": "https://localhost:8080/"
        },
        "outputId": "0a5a5193-3407-4bae-d7ba-de517f6d6b4f"
      },
      "execution_count": null,
      "outputs": [
        {
          "output_type": "stream",
          "name": "stdout",
          "text": [
            "Train Accuracy : 0.6142244153615104\n",
            "Train Confusion Matrix:\n",
            "[[18188  6884]\n",
            " [11097 10441]]\n",
            "--------------------------------------------------\n",
            "Test Accuracy : 0.6198127847024077\n",
            "Test Confusion Matrix:\n",
            "[[7860 2891]\n",
            " [4704 4522]]\n"
          ]
        }
      ]
    },
    {
      "cell_type": "code",
      "source": [
        "clf= DecisionTreeClassifier(min_samples_split=20)\n",
        "clf.fit(x_train, y_train)"
      ],
      "metadata": {
        "id": "4HrjNDNoCSNs",
        "colab": {
          "base_uri": "https://localhost:8080/"
        },
        "outputId": "08d2239e-36c2-462e-d422-d735ca55136b"
      },
      "execution_count": null,
      "outputs": [
        {
          "output_type": "execute_result",
          "data": {
            "text/plain": [
              "DecisionTreeClassifier(min_samples_split=20)"
            ]
          },
          "metadata": {},
          "execution_count": 69
        }
      ]
    },
    {
      "cell_type": "code",
      "source": [
        "evaluate_model(clf)"
      ],
      "metadata": {
        "id": "5TxgFUkTCfZm",
        "colab": {
          "base_uri": "https://localhost:8080/"
        },
        "outputId": "ea41b080-920f-4513-f170-7d24aff4b5fb"
      },
      "execution_count": null,
      "outputs": [
        {
          "output_type": "stream",
          "name": "stdout",
          "text": [
            "Train Accuracy : 0.8613816777515555\n",
            "Train Confusion Matrix:\n",
            "[[22262  2810]\n",
            " [ 3651 17887]]\n",
            "--------------------------------------------------\n",
            "Test Accuracy : 0.6536516994543725\n",
            "Test Confusion Matrix:\n",
            "[[7483 3268]\n",
            " [3651 5575]]\n"
          ]
        }
      ]
    },
    {
      "cell_type": "code",
      "source": [
        "clf = DecisionTreeClassifier(min_samples_leaf=20, random_state=42)\n",
        "clf.fit(x_train, y_train)"
      ],
      "metadata": {
        "id": "blIfl3lVCnYA",
        "colab": {
          "base_uri": "https://localhost:8080/"
        },
        "outputId": "0c7b0406-7dba-42c6-fb7d-7f66f80dafc8"
      },
      "execution_count": null,
      "outputs": [
        {
          "output_type": "execute_result",
          "data": {
            "text/plain": [
              "DecisionTreeClassifier(min_samples_leaf=20, random_state=42)"
            ]
          },
          "metadata": {},
          "execution_count": 71
        }
      ]
    },
    {
      "cell_type": "code",
      "source": [
        "evaluate_model(clf)"
      ],
      "metadata": {
        "id": "tZbOjJ7SCwx1",
        "colab": {
          "base_uri": "https://localhost:8080/"
        },
        "outputId": "872d2978-ab68-40c3-fc1e-8ea8c9112c63"
      },
      "execution_count": null,
      "outputs": [
        {
          "output_type": "stream",
          "name": "stdout",
          "text": [
            "Train Accuracy : 0.7389186869770435\n",
            "Train Confusion Matrix:\n",
            "[[19806  5266]\n",
            " [ 6903 14635]]\n",
            "--------------------------------------------------\n",
            "Test Accuracy : 0.6256695199479402\n",
            "Test Confusion Matrix:\n",
            "[[7268 3483]\n",
            " [3995 5231]]\n"
          ]
        }
      ]
    },
    {
      "cell_type": "code",
      "source": [
        "dt_min_leaf_gini = DecisionTreeClassifier(min_samples_leaf=20, random_state=42, criterion=\"gini\")\n",
        "dt_min_leaf_gini.fit(x_train, y_train)"
      ],
      "metadata": {
        "colab": {
          "base_uri": "https://localhost:8080/"
        },
        "id": "sGnl9EWKmy8e",
        "outputId": "fe494ec6-1c0a-46a4-a78a-a6da161d4a51"
      },
      "execution_count": null,
      "outputs": [
        {
          "output_type": "execute_result",
          "data": {
            "text/plain": [
              "DecisionTreeClassifier(min_samples_leaf=20, random_state=42)"
            ]
          },
          "metadata": {},
          "execution_count": 103
        }
      ]
    },
    {
      "cell_type": "code",
      "source": [
        "evaluate_model(dt_min_leaf_gini)"
      ],
      "metadata": {
        "colab": {
          "base_uri": "https://localhost:8080/"
        },
        "id": "lLA1opNunD7H",
        "outputId": "3ddf5fb6-2135-4edc-dec6-4fbad5bfa965"
      },
      "execution_count": null,
      "outputs": [
        {
          "output_type": "stream",
          "name": "stdout",
          "text": [
            "Train Accuracy : 0.7389186869770435\n",
            "Train Confusion Matrix:\n",
            "[[19806  5266]\n",
            " [ 6903 14635]]\n",
            "--------------------------------------------------\n",
            "Test Accuracy : 0.6256695199479402\n",
            "Test Confusion Matrix:\n",
            "[[7268 3483]\n",
            " [3995 5231]]\n"
          ]
        }
      ]
    },
    {
      "cell_type": "code",
      "source": [
        "dt = DecisionTreeClassifier(random_state=42)"
      ],
      "metadata": {
        "id": "iJoeUe7NDSHy"
      },
      "execution_count": null,
      "outputs": []
    },
    {
      "cell_type": "code",
      "source": [
        "from sklearn.model_selection import GridSearchCV"
      ],
      "metadata": {
        "id": "dkPEUj26Dqmo"
      },
      "execution_count": null,
      "outputs": []
    },
    {
      "cell_type": "code",
      "source": [
        "params = {\n",
        "    'max_depth': [2, 3, 5, 10, 20],\n",
        "    'min_samples_leaf': [5, 10, 20, 50, 100],\n",
        "    'criterion': [\"gini\", \"entropy\"]\n",
        "}"
      ],
      "metadata": {
        "id": "4TYKLBaDDur8"
      },
      "execution_count": null,
      "outputs": []
    },
    {
      "cell_type": "code",
      "source": [
        "grid_search = GridSearchCV(estimator=dt, \n",
        "                           param_grid=params, \n",
        "                           cv=4, n_jobs=-1, verbose=1, scoring = \"accuracy\")"
      ],
      "metadata": {
        "id": "hp07PEM3Dy1f"
      },
      "execution_count": null,
      "outputs": []
    },
    {
      "cell_type": "code",
      "source": [
        "grid_search.fit(x_train, y_train)"
      ],
      "metadata": {
        "id": "NqTw9UBtD5FK",
        "colab": {
          "base_uri": "https://localhost:8080/"
        },
        "outputId": "8c8b2680-af89-4b2a-9461-8711c3034d73"
      },
      "execution_count": null,
      "outputs": [
        {
          "output_type": "stream",
          "name": "stdout",
          "text": [
            "Fitting 4 folds for each of 50 candidates, totalling 200 fits\n"
          ]
        },
        {
          "output_type": "execute_result",
          "data": {
            "text/plain": [
              "GridSearchCV(cv=4, estimator=DecisionTreeClassifier(random_state=42), n_jobs=-1,\n",
              "             param_grid={'criterion': ['gini', 'entropy'],\n",
              "                         'max_depth': [2, 3, 5, 10, 20],\n",
              "                         'min_samples_leaf': [5, 10, 20, 50, 100]},\n",
              "             scoring='accuracy', verbose=1)"
            ]
          },
          "metadata": {},
          "execution_count": 108
        }
      ]
    },
    {
      "cell_type": "code",
      "source": [
        "grid_search.best_estimator_"
      ],
      "metadata": {
        "id": "sD5ihqTgEUar",
        "colab": {
          "base_uri": "https://localhost:8080/"
        },
        "outputId": "2a5288f8-b5a4-4886-a98a-28a63c0ebd21"
      },
      "execution_count": null,
      "outputs": [
        {
          "output_type": "execute_result",
          "data": {
            "text/plain": [
              "DecisionTreeClassifier(max_depth=20, min_samples_leaf=5, random_state=42)"
            ]
          },
          "metadata": {},
          "execution_count": 110
        }
      ]
    },
    {
      "cell_type": "code",
      "source": [
        "dt_best = grid_search.best_estimator_"
      ],
      "metadata": {
        "id": "wex7v-6HEcWg"
      },
      "execution_count": null,
      "outputs": []
    },
    {
      "cell_type": "code",
      "source": [
        "evaluate_model(dt_best)"
      ],
      "metadata": {
        "id": "TuGq98XKEk5g",
        "colab": {
          "base_uri": "https://localhost:8080/"
        },
        "outputId": "4d93d2f3-328c-47bd-b74d-ca69d280d36c"
      },
      "execution_count": null,
      "outputs": [
        {
          "output_type": "stream",
          "name": "stdout",
          "text": [
            "Train Accuracy : 0.8063291139240506\n",
            "Train Confusion Matrix:\n",
            "[[21359  3713]\n",
            " [ 5314 16224]]\n",
            "--------------------------------------------------\n",
            "Test Accuracy : 0.6423386894929168\n",
            "Test Confusion Matrix:\n",
            "[[7510 3241]\n",
            " [3904 5322]]\n"
          ]
        }
      ]
    }
  ]
}