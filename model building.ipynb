{
  "nbformat": 4,
  "nbformat_minor": 0,
  "metadata": {
    "colab": {
      "provenance": []
    },
    "kernelspec": {
      "name": "python3",
      "display_name": "Python 3"
    },
    "language_info": {
      "name": "python"
    }
  },
  "cells": [
    {
      "cell_type": "code",
      "execution_count": null,
      "metadata": {
        "id": "6bJC2HPag-SA"
      },
      "outputs": [],
      "source": [
        "from random import seed\n",
        "from random import randrange\n",
        "from csv import reader"
      ]
    },
    {
      "cell_type": "markdown",
      "source": [
        "random - returns a random float number b/w 0 and 1\n",
        "\n",
        "seed - initialize the random number generator\n",
        "\n",
        "csv - a type of plain text file that uses specific structurinf to \n",
        "\n",
        "arrange tabular data\n",
        "\n",
        "randrange - return a random no b/w the given range\n",
        "\n",
        "reader - it is used to read a file"
      ],
      "metadata": {
        "id": "qq5LHoQyewVQ"
      }
    },
    {
      "cell_type": "markdown",
      "source": [
        "The banknote dataset involves predicting whether a given banknote is authentic given a number of measures taken from a photograph"
      ],
      "metadata": {
        "id": "5ztFziniaE1-"
      }
    },
    {
      "cell_type": "code",
      "source": [
        "# Load a CSV file\n",
        "def load_csv(filename):\n",
        " file = open(filename, \"rt\")\n",
        " lines = reader(file)\n",
        " dataset = list(lines)\n",
        " return dataset"
      ],
      "metadata": {
        "id": "CxYZFO0vhwhA"
      },
      "execution_count": null,
      "outputs": []
    },
    {
      "cell_type": "markdown",
      "source": [
        "str_column_to_float() to convert string numbers to floats."
      ],
      "metadata": {
        "id": "FzKyFxT3d8_X"
      }
    },
    {
      "cell_type": "code",
      "source": [
        "# Convert string column to float\n",
        "def str_column_to_float(dataset, column):\n",
        " for row in dataset:\n",
        "  row[column] = float(row[column].strip())"
      ],
      "metadata": {
        "id": "ELweAja5FH3e"
      },
      "execution_count": null,
      "outputs": []
    },
    {
      "cell_type": "markdown",
      "source": [
        "We will evaluate the algorithm using k-fold cross-validation with 5 folds. This means that 1372/5=274.4 or just over 270 records will be used in each fold."
      ],
      "metadata": {
        "id": "GOF2RvE5d-Y9"
      }
    },
    {
      "cell_type": "code",
      "source": [
        "# Split a dataset into k folds\n",
        "def cross_validation_split(dataset, n_folds):\n",
        " dataset_split = list()\n",
        " dataset_copy = list(dataset)\n",
        " fold_size = int(len(dataset) / n_folds)\n",
        " for i in range(n_folds):\n",
        "  fold = list()\n",
        " while len(fold) < fold_size:\n",
        "  index = randrange(len(dataset_copy))\n",
        " fold.append(dataset_copy.pop(index))\n",
        " dataset_split.append(fold)\n",
        " return dataset_split"
      ],
      "metadata": {
        "id": "AMm0QJIrh1Th"
      },
      "execution_count": null,
      "outputs": []
    },
    {
      "cell_type": "markdown",
      "source": [
        "accuracy_metric() to calculate the accuracy of predictions."
      ],
      "metadata": {
        "id": "4KD287xtdkpd"
      }
    },
    {
      "cell_type": "code",
      "source": [
        "# Calculate accuracy percentage\n",
        "def accuracy_metric(actual, predicted):\n",
        " correct = 0\n",
        " for i in range(len(actual)):\n",
        "  if actual[i] == predicted[i]:\n",
        "    correct += 1\n",
        " return correct / float(len(actual)) * 100.0"
      ],
      "metadata": {
        "id": "qZwuOxUKh-7u"
      },
      "execution_count": null,
      "outputs": []
    },
    {
      "cell_type": "markdown",
      "source": [
        "helper functions evaluate_algorithm() to evaluate the algorithm with cross-validation "
      ],
      "metadata": {
        "id": "Rq7QRn5EdbvP"
      }
    },
    {
      "cell_type": "code",
      "source": [
        "# Evaluate an algorithm using a cross validation split\n",
        "def evaluate_algorithm(dataset, algorithm, n_folds=5,max_depth=5,min_size=10, *args):\n",
        " folds = cross_validation_split(dataset, n_folds)\n",
        " scores = list()\n",
        " for fold in folds:\n",
        "  train_set = list(folds)\n",
        " train_set.remove(fold)\n",
        " train_set = sum(train_set, [])\n",
        " test_set = list()\n",
        " for row in fold:\n",
        "  row_copy = list(row)\n",
        " test_set.append(row_copy)\n",
        " row_copy[-1] = None\n",
        " predicted = algorithm(train_set, test_set, *args)\n",
        " actual = [row[-1] for row in fold]\n",
        " accuracy = accuracy_metric(actual, predicted)\n",
        " scores.append(accuracy)\n",
        " return scores"
      ],
      "metadata": {
        "id": "1JqafEtuiFkn"
      },
      "execution_count": null,
      "outputs": []
    },
    {
      "cell_type": "markdown",
      "source": [
        "Splitting a dataset involves iterating over each row, checking if the attribute value is below or above the split value and assigning it to the left or right group respectively."
      ],
      "metadata": {
        "id": "RVHvFMR2a358"
      }
    },
    {
      "cell_type": "code",
      "source": [
        "# Split a dataset based on an attribute and an attribute value\n",
        "def test_split(index, value, dataset):\n",
        " left, right = list(), list()\n",
        " for row in dataset:\n",
        "  if row[index] < value:\n",
        "   left.append(row)\n",
        " else:\n",
        "   right.append(row)\n",
        " return left, right"
      ],
      "metadata": {
        "id": "jmRGhKepiJwX"
      },
      "execution_count": null,
      "outputs": []
    },
    {
      "cell_type": "markdown",
      "source": [
        " gini_index() the calculates the Gini index for a list of groups and a list of known class values."
      ],
      "metadata": {
        "id": "74gkB0QTaarW"
      }
    },
    {
      "cell_type": "code",
      "source": [
        "# Calculate the Gini index for a split dataset\n",
        "def gini_index(groups, classes):\n",
        "  # count all samples at split point\n",
        " n_instances = float(sum([len(group) for group in groups]))\n",
        "  # sum weighted Gini index for each group\n",
        " gini = 0.0\n",
        " for group in groups:\n",
        "  size = float(len(group))\n",
        "  # score the group based on the score for each class\n",
        " for class_val in classes:\n",
        "  p = [row[-1] for row in group].count(class_val) / size\n",
        " score += p * p\n",
        "  # weight the group score by its relative size\n",
        " gini += (1.0 - score) * (size / n_instances)\n",
        " return gini"
      ],
      "metadata": {
        "id": "qcshoF_fiRbY"
      },
      "execution_count": null,
      "outputs": []
    },
    {
      "cell_type": "markdown",
      "source": [
        "The get_split() function was used to print out each split point and it’s Gini index as it was evaluated."
      ],
      "metadata": {
        "id": "4FTQHR4_bUOS"
      }
    },
    {
      "cell_type": "code",
      "source": [
        "# Select the best split point for a dataset\n",
        "def get_split(dataset):\n",
        " class_values = list(set(row[-1] for row in dataset))\n",
        " b_index, b_value, b_score, b_groups = 999, 999, 999, None\n",
        " for index in range(len(dataset[0])-1):\n",
        "  for row in dataset:\n",
        "   groups = test_split(index, row[index], dataset)\n",
        " gini = gini_index(groups, class_values)\n",
        " if gini < b_score:\n",
        "  b_index, b_value, b_score, b_groups = index, row[index], gini, groups\n",
        " return {'index':b_index, 'value':b_value, 'groups':b_groups}"
      ],
      "metadata": {
        "id": "LQ4_mDxRiWx4"
      },
      "execution_count": null,
      "outputs": []
    },
    {
      "cell_type": "markdown",
      "source": [
        "to_terminal() that will select a class value for a group of rows. It returns the most common output value in a list of rows."
      ],
      "metadata": {
        "id": "estSU2QobF6i"
      }
    },
    {
      "cell_type": "code",
      "source": [
        "# Create a terminal node value\n",
        "def to_terminal(group):\n",
        " outcomes = [row[-1] for row in group]\n",
        " return max(set(outcomes), key=outcomes.count)"
      ],
      "metadata": {
        "id": "plU7LqO0idrO"
      },
      "execution_count": null,
      "outputs": []
    },
    {
      "cell_type": "markdown",
      "source": [
        "Once a node is created, we can create child nodes recursively on each group of data from the split by calling the same function again.\n",
        "\n",
        "Building a decision tree involves calling the above developed get_split() function over and over again on the groups created for each node."
      ],
      "metadata": {
        "id": "pmERlb7_b2N0"
      }
    },
    {
      "cell_type": "code",
      "source": [
        "# Create child splits for a node or make terminal\n",
        "def split(node, max_depth, min_size, depth):\n",
        " left, right = node['groups']\n",
        " del(node['groups'])\n",
        " # check for a no split\n",
        " if not left or not right:\n",
        "  node['left'] = node['right'] = to_terminal(left + right)\n",
        " return\n",
        " # check for max depth\n",
        " if depth >= max_depth:\n",
        "  node['left'], node['right'] = to_terminal(left), to_terminal(right)\n",
        " return\n",
        "  # process left child\n",
        " if len(left) <= min_size:\n",
        "  node['left'] = to_terminal(left)\n",
        " else:\n",
        "  node['left'] = get_split(left)\n",
        " split(node['left'], max_depth, min_size, depth+1)\n",
        "# process right child\n",
        " if len(right) <= min_size:\n",
        "  node['right'] = to_terminal(right)\n",
        " else:\n",
        "  node['right'] = get_split(right)\n",
        " split(node['right'], max_depth, min_size, depth+1)"
      ],
      "metadata": {
        "id": "hMHMIipIijvh"
      },
      "execution_count": null,
      "outputs": []
    },
    {
      "cell_type": "markdown",
      "source": [
        "build_tree() function\n",
        "Building the tree involves creating the root node and calling the split() function that then calls itself recursively to build out the whole tree."
      ],
      "metadata": {
        "id": "ZUt1lxJ8cW7n"
      }
    },
    {
      "cell_type": "code",
      "source": [
        "# Build a decision tree\n",
        "def build_tree(train, max_depth, min_size):\n",
        " root = get_split(train)\n",
        " split(root, max_depth, min_size, 1)\n",
        " return root"
      ],
      "metadata": {
        "id": "3GViG_1uitm8"
      },
      "execution_count": null,
      "outputs": []
    },
    {
      "cell_type": "markdown",
      "source": [
        " predict() function - Making predictions with a decision tree involves navigating the tree with the specifically provided row of data."
      ],
      "metadata": {
        "id": "FAN8UJIMdEZK"
      }
    },
    {
      "cell_type": "code",
      "source": [
        "# Make a prediction with a decision tree\n",
        "def predict(node, row):\n",
        " if row[node['index']] < node['value']:\n",
        "  if isinstance(node['left'], dict):\n",
        "   return predict(node['left'], row)\n",
        " else:\n",
        "   return node['left']\n",
        " if isinstance(node['right'], dict):\n",
        "     return predict(node['right'], row)\n",
        " else:\n",
        "     return node['right']"
      ],
      "metadata": {
        "id": "msqiu-tti2qr"
      },
      "execution_count": null,
      "outputs": []
    },
    {
      "cell_type": "markdown",
      "source": [
        "decision_tree() was developed to manage the application of the CART algorithm, first creating the tree from the training dataset, then using the tree to make predictions on a test dataset."
      ],
      "metadata": {
        "id": "9-3TheMMdxRU"
      }
    },
    {
      "cell_type": "code",
      "source": [
        "# Classification Tree Algorithm\n",
        "def decision_tree(train, test, max_depth, min_size):\n",
        " tree = build_tree(train, max_depth, min_size)\n",
        " predictions = list()\n",
        " for row in test:\n",
        "  prediction = predict(tree, row)\n",
        " predictions.append(prediction)\n",
        " return(predictions) "
      ],
      "metadata": {
        "id": "ADOhdwwPi6yN"
      },
      "execution_count": null,
      "outputs": []
    },
    {
      "cell_type": "code",
      "source": [
        "# Test CT on Bank Note dataset\n",
        "seed(1)"
      ],
      "metadata": {
        "id": "t_7u3bkiwDxi"
      },
      "execution_count": null,
      "outputs": []
    },
    {
      "cell_type": "code",
      "source": [
        "import numpy as np"
      ],
      "metadata": {
        "id": "58Rz88HmRggH"
      },
      "execution_count": null,
      "outputs": []
    },
    {
      "cell_type": "code",
      "source": [
        "# load and prepare data\n",
        "filename = '/content/BankNote_Authentication.csv'\n",
        "dataset = load_csv(filename)"
      ],
      "metadata": {
        "id": "naMA3O1qxCvc"
      },
      "execution_count": null,
      "outputs": []
    },
    {
      "cell_type": "code",
      "source": [
        "print(' Accuracy: %.3f%%' % np.mean(predict == decision_tree))"
      ],
      "metadata": {
        "colab": {
          "base_uri": "https://localhost:8080/"
        },
        "id": "WvrxgY-jv7Hi",
        "outputId": "ce0fdfc4-fa48-459e-e201-9c7688329363"
      },
      "execution_count": null,
      "outputs": [
        {
          "output_type": "stream",
          "name": "stdout",
          "text": [
            " Accuracy: 0.000%\n"
          ]
        }
      ]
    },
    {
      "cell_type": "markdown",
      "source": [],
      "metadata": {
        "id": "EGZT3WOxZ_VL"
      }
    },
    {
      "cell_type": "code",
      "source": [],
      "metadata": {
        "id": "gsEWAHvfCZmc"
      },
      "execution_count": null,
      "outputs": []
    }
  ]
}